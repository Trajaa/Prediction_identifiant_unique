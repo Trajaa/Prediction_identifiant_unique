{
 "cells": [
  {
   "cell_type": "code",
   "execution_count": 112,
   "id": "62610450",
   "metadata": {},
   "outputs": [],
   "source": [
    "import pandas as pd\n",
    "data = pd.read_csv('C:/Users/hp/Desktop/prj_pfe_inwi/traffic_matrix_unfiltered_m1_40000_chiffre.csv')   "
   ]
  },
  {
   "cell_type": "code",
   "execution_count": 113,
   "id": "27f966c8",
   "metadata": {},
   "outputs": [],
   "source": [
    "columns_to_drop1 =['id_date','id_date.1','end_date','start_date','duration_sms','duration_sms_wh']\n",
    "data = data.drop(columns=columns_to_drop1)\n",
    "data = data.drop(data.columns[0], axis=1)"
   ]
  },
  {
   "cell_type": "code",
   "execution_count": 115,
   "id": "2740136d",
   "metadata": {},
   "outputs": [],
   "source": [
    "import numpy as np\n",
    "data['duration'] = np.log(data['duration'] +1)\n",
    "data['duration_wh'] = np.log(data['duration_wh']+1)\n",
    "data['num_interactions'] = np.log(data['num_interactions']+1)\n",
    "data['traffic_days'] = np.log(data['traffic_days']+1)\n",
    "data['num_interactions_wh'] = np.log(data['num_interactions_wh']+1)\n",
    "data['num_interactions_voix'] = np.log(data['num_interactions_voix']+1) \n",
    "data['num_interactions_voix_wh'] = np.log(data['num_interactions_voix_wh']+1) \n",
    "data['num_interactions_sms'] = np.log(data['num_interactions_sms']+1)\n",
    "data['num_interactions_sms_wh'] = np.log(data['num_interactions_sms_wh']+1)\n",
    "data['traffic_days_voix'] = np.log(data['traffic_days_voix']+1)\n",
    "data['traffic_days_sms'] = np.log(data['traffic_days_sms']+1)\n",
    "data['duration_voix'] = np.log(data['duration_voix']+1)\n",
    "data['duration_voix_wh'] = np.log(data['duration_voix_wh']+1)\n"
   ]
  },
  {
   "cell_type": "code",
   "execution_count": 116,
   "id": "cf39b6d2",
   "metadata": {},
   "outputs": [
    {
     "name": "stdout",
     "output_type": "stream",
     "text": [
      "Index(['a_number', 'a_own', 'b_number', 'b_own', 'duration', 'duration_wh',\n",
      "       'num_interactions', 'num_interactions_wh', 'traffic_days',\n",
      "       'num_interactions_voix', 'num_interactions_voix_wh',\n",
      "       'num_interactions_sms', 'num_interactions_sms_wh', 'traffic_days_voix',\n",
      "       'traffic_days_sms', 'duration_voix', 'duration_voix_wh', 'offnet',\n",
      "       'short_flag', 'dn'],\n",
      "      dtype='object')\n"
     ]
    }
   ],
   "source": [
    "print(data.columns)"
   ]
  },
  {
   "cell_type": "code",
   "execution_count": 117,
   "id": "dbd0aa3f",
   "metadata": {},
   "outputs": [],
   "source": [
    "columns_to_drop2 =['b_own', 'duration','num_interactions_voix','num_interactions','num_interactions_sms','traffic_days','duration_voix']\n",
    "data = data.drop(columns=columns_to_drop2)"
   ]
  },
  {
   "cell_type": "code",
   "execution_count": 118,
   "id": "7ad97041",
   "metadata": {
    "scrolled": true
   },
   "outputs": [
    {
     "name": "stdout",
     "output_type": "stream",
     "text": [
      "Index(['a_number', 'a_own', 'b_number', 'duration_wh', 'num_interactions_wh',\n",
      "       'num_interactions_voix_wh', 'num_interactions_sms_wh',\n",
      "       'traffic_days_voix', 'traffic_days_sms', 'duration_voix_wh', 'offnet',\n",
      "       'short_flag', 'dn'],\n",
      "      dtype='object')\n"
     ]
    }
   ],
   "source": [
    "print(data.columns)"
   ]
  },
  {
   "cell_type": "code",
   "execution_count": 124,
   "id": "1e57f049",
   "metadata": {
    "scrolled": false
   },
   "outputs": [
    {
     "name": "stdout",
     "output_type": "stream",
     "text": [
      "0         805249d5353b56beffe265acb21d2922\n",
      "1         805249d5353b56beffe265acb21d2922\n",
      "2         805249d5353b56beffe265acb21d2922\n",
      "3         805249d5353b56beffe265acb21d2922\n",
      "4         805249d5353b56beffe265acb21d2922\n",
      "                        ...               \n",
      "399995    41148a6474f9896e461718903fe50b7f\n",
      "399996    41148a6474f9896e461718903fe50b7f\n",
      "399997    41148a6474f9896e461718903fe50b7f\n",
      "399998    41148a6474f9896e461718903fe50b7f\n",
      "399999    41148a6474f9896e461718903fe50b7f\n",
      "Name: a_number, Length: 400000, dtype: object\n"
     ]
    }
   ],
   "source": [
    "print(data['a_number'])"
   ]
  },
  {
   "cell_type": "code",
   "execution_count": 125,
   "id": "948023a8",
   "metadata": {},
   "outputs": [],
   "source": [
    "data.to_csv('C:/Users/hp/Desktop/prj_pfe_inwi/traffic_matrix1ee.csv', index=False)"
   ]
  },
  {
   "cell_type": "code",
   "execution_count": 126,
   "id": "cc721074",
   "metadata": {},
   "outputs": [],
   "source": [
    "import pandas as pd\n",
    "\n",
    "# Chargement du jeu de données à partir d'un fichier CSV (par exemple)\n",
    "data1 = pd.read_csv('C:/Users/hp/Desktop/prj_pfe_inwi/top_hier_bts_main_d1_10000_chiffre.csv')\n"
   ]
  },
  {
   "cell_type": "code",
   "execution_count": 127,
   "id": "07e0139e",
   "metadata": {
    "scrolled": true
   },
   "outputs": [
    {
     "name": "stdout",
     "output_type": "stream",
     "text": [
      "Index(['Unnamed: 0', 'dn', 'imsi', 'imei', 'contract_id', 'party_account',\n",
      "       'party_customer', 'profile_id', 'subprofile', 'produit', 'gamme',\n",
      "       'marche', 'segment', 'billing_type', 'full_vol', 'full_ci',\n",
      "       'full_secteur', 'full_bts', 'full_city', 'full_province', 'full_region',\n",
      "       'source', 'unit', 'id_date'],\n",
      "      dtype='object')\n"
     ]
    }
   ],
   "source": [
    "print(data1.columns)"
   ]
  },
  {
   "cell_type": "code",
   "execution_count": 128,
   "id": "6e1804ba",
   "metadata": {},
   "outputs": [
    {
     "name": "stdout",
     "output_type": "stream",
     "text": [
      "Index(['dn', 'contract_id', 'profile_id', 'subprofile', 'produit', 'full_vol',\n",
      "       'full_ci', 'full_bts', 'source', 'unit'],\n",
      "      dtype='object')\n"
     ]
    }
   ],
   "source": [
    "columns_to_drop1 =['full_region','id_date','imei','segment','imsi','gamme','billing_type','marche','full_city','party_customer','party_account','full_secteur','full_province']\n",
    "data1= data1.drop(columns=columns_to_drop1)\n",
    "data1 = data1.drop(data1.columns[0], axis=1) \n",
    "print(data1.columns)"
   ]
  },
  {
   "cell_type": "code",
   "execution_count": 129,
   "id": "80bb992e",
   "metadata": {},
   "outputs": [],
   "source": [
    "import pandas as pd\n",
    "\n",
    "# Création de la nouvelle colonne en fusionnant 'source' et 'unit'\n",
    "data1['source_unit'] = data1.apply(lambda row: f\"{row['source']} ({row['unit']})\", axis=1)\n"
   ]
  },
  {
   "cell_type": "code",
   "execution_count": 130,
   "id": "311093fc",
   "metadata": {},
   "outputs": [
    {
     "name": "stdout",
     "output_type": "stream",
     "text": [
      "Index(['dn', 'contract_id', 'profile_id', 'subprofile', 'produit', 'full_vol',\n",
      "       'full_ci', 'full_bts', 'source', 'unit', 'source_unit'],\n",
      "      dtype='object')\n"
     ]
    }
   ],
   "source": [
    "print(data1.columns)\n"
   ]
  },
  {
   "cell_type": "code",
   "execution_count": 131,
   "id": "d398fa2e",
   "metadata": {},
   "outputs": [
    {
     "name": "stdout",
     "output_type": "stream",
     "text": [
      "0           DATA (bytes)\n",
      "1           DATA (bytes)\n",
      "2        VOICE (minutes)\n",
      "3           DATA (bytes)\n",
      "4        VOICE (minutes)\n",
      "              ...       \n",
      "99995       DATA (bytes)\n",
      "99996    VOICE (minutes)\n",
      "99997    VOICE (minutes)\n",
      "99998       DATA (bytes)\n",
      "99999       DATA (bytes)\n",
      "Name: source_unit, Length: 100000, dtype: object\n"
     ]
    }
   ],
   "source": [
    "print(data1['source_unit'])"
   ]
  },
  {
   "cell_type": "code",
   "execution_count": 132,
   "id": "badc6d17",
   "metadata": {
    "scrolled": true
   },
   "outputs": [
    {
     "name": "stdout",
     "output_type": "stream",
     "text": [
      "0        3.545679e+09\n",
      "1        7.044269e+08\n",
      "2        1.500000e+00\n",
      "3        4.382898e+08\n",
      "4        1.013333e+01\n",
      "             ...     \n",
      "99995    4.729619e+08\n",
      "99996    3.066667e+00\n",
      "99997    6.000000e-01\n",
      "99998    2.099711e+08\n",
      "99999    4.295198e+08\n",
      "Name: full_vol, Length: 100000, dtype: float64\n"
     ]
    }
   ],
   "source": [
    "print(data1['full_vol'])"
   ]
  },
  {
   "cell_type": "code",
   "execution_count": 133,
   "id": "b859df85",
   "metadata": {
    "scrolled": true
   },
   "outputs": [
    {
     "name": "stdout",
     "output_type": "stream",
     "text": [
      "Voice Data:\n",
      "                                     dn                       contract_id  \\\n",
      "2      0b5e0250349378314a8401f75f495c4d  58c618885751269597f2e2975e402059   \n",
      "4      3bcb0b787b016707465f0f1df7a66cc5  8a168523c7461d62cfe07f5251233479   \n",
      "6      84d840fb109c67825673535e790c25ea  8a05420dbca78228a3c34c35524e5380   \n",
      "8      ac780e9d1c7f15bd6aebb9ac1f6e7278  ef4916712434f6d318d625b688530656   \n",
      "10     ca35c1eddb232bd1313edf1650af4b87  6f876f77adcc715c8843499e73e2276f   \n",
      "...                                 ...                               ...   \n",
      "99986  d2368b7a4234a58b7dc0ab6a3dadfda1  e0aa31525dd29a5fb16dfde1b8886e8f   \n",
      "99990  ada75c4b4514d1b98c5869d0d0dbcf46  9a58a2c527f129016071f725ccf32955   \n",
      "99992  477d0b4b16377953b72e8ac6d0f9c23e  9a3d48eefba3fd9c1eb93fd3b2c00b09   \n",
      "99996  39eac77ccfa0e539be2e062dde370d47  935defd2af674590dfb587acdc16f205   \n",
      "99997  4599e3a71638c20e55a1987f85b0c6d3  1754f73fd31aaf1c1d081881bbcf39e1   \n",
      "\n",
      "       profile_id             subprofile                         produit  \\\n",
      "2            5291  * Value not available                          TicTac   \n",
      "4           86909  * Value not available          Forfait 99dhs Internet   \n",
      "6            4490  * Value not available   Offre migration voix gratuite   \n",
      "8           86916  * Value not available       Forfait 49dhs illimite RS   \n",
      "10            618  * Value not available                          TicTac   \n",
      "...           ...                    ...                             ...   \n",
      "99986       81994  * Value not available        Forfait illimite Binatna   \n",
      "99990        4490  * Value not available   Offre migration voix gratuite   \n",
      "99992       83515  * Value not available       Forfait 99dhs illimité RS   \n",
      "99996       82194  * Value not available  Forfait Illimité inwi 11h+11Go   \n",
      "99997       84001  * Value not available                       TicTac 4G   \n",
      "\n",
      "        full_vol          full_ci  full_bts source     unit      source_unit  \n",
      "2       1.500000  604020113642852  CHT-1002  VOICE  minutes  VOICE (minutes)  \n",
      "4      10.133333  604020123057612  CAS-2154  VOICE  minutes  VOICE (minutes)  \n",
      "6       0.250000  604020014400204  CAS-1204  VOICE  minutes  VOICE (minutes)  \n",
      "8       2.433333  604020117325608  MOH-1171  VOICE  minutes  VOICE (minutes)  \n",
      "10      0.433333  604020117351835  MOH-1201  VOICE  minutes  VOICE (minutes)  \n",
      "...          ...              ...       ...    ...      ...              ...  \n",
      "99986   0.450000  604020117302275  MOH-1075  VOICE  minutes  VOICE (minutes)  \n",
      "99990   0.300000  604020014629901  MOH-1056  VOICE  minutes  VOICE (minutes)  \n",
      "99992  14.466667  604020016120398  CAS-1398  VOICE  minutes  VOICE (minutes)  \n",
      "99996   3.066667  604020117507214  CAS-1618  VOICE  minutes  VOICE (minutes)  \n",
      "99997   0.600000  604020123362046  CAS-1065  VOICE  minutes  VOICE (minutes)  \n",
      "\n",
      "[41742 rows x 11 columns]\n",
      "Data Data:\n",
      "                                     dn                       contract_id  \\\n",
      "0      7af98149fede1fefb648bdf5ce2d656f  92712003f67cbb945db315d52fbcd5d6   \n",
      "1      59e2c9efc16e63d7d45109db66637773  b3554808e6367c420d072aa75619900c   \n",
      "3      81a23991f5b67a9041b19fe6bc3619d5  844984b8172d51395f3a548e05a58461   \n",
      "5      0cc2b4b36dc284edef312d522b441ab1  ed0e1fc33f62cb271a4e8c5f7503d9ac   \n",
      "7      b39285dde99c3665e8181a63f99d1755  ac5140fd1372f7c8ac6b303f5aee0d02   \n",
      "...                                 ...                               ...   \n",
      "99993  1917938096416a561209668161647e69  7f379d36e3300c9c5b27706551f65aaa   \n",
      "99994  111b1bfa96a197776532958fc73f9558  ebc5e50686e01ec0f888f5409fd32c74   \n",
      "99995  582cca13f4f2927397c16998f8ad2b2e  6518e6fc377f17c7bf25bc2852a33eba   \n",
      "99998  ab99357ecbce10602ecd394894b8a619  746cd68511a87268bdf8099fe9bcfa56   \n",
      "99999  7c7cfae1c4e52a20bb3d705e1af0a33e  cff15e590b5656cb75923bff47b55439   \n",
      "\n",
      "       profile_id             subprofile           produit      full_vol  \\\n",
      "0           81384  * Value not available  Idar Duo 199 dhs  3.545679e+09   \n",
      "1           84001  * Value not available         TicTac 4G  7.044269e+08   \n",
      "3            5292  * Value not available               MRE  4.382898e+08   \n",
      "5            5291  * Value not available            TicTac  1.892000e+03   \n",
      "7            2990  * Value not available               MRE  3.646930e+05   \n",
      "...           ...                    ...               ...           ...   \n",
      "99993        5292  * Value not available               MRE  0.000000e+00   \n",
      "99994       84001  * Value not available         TicTac 4G  1.635165e+08   \n",
      "99995       84001  * Value not available         TicTac 4G  4.729619e+08   \n",
      "99998       84001  * Value not available         TicTac 4G  2.099711e+08   \n",
      "99999       84001  * Value not available         TicTac 4G  4.295198e+08   \n",
      "\n",
      "                 full_ci  full_bts source   unit   source_unit  \n",
      "0      6040204D101881B02  CAS-1379   DATA  bytes  DATA (bytes)  \n",
      "1      604020474029C2407  BAH-1044   DATA  bytes  DATA (bytes)  \n",
      "3      6040204CE01882E08  CAS-1398   DATA  bytes  DATA (bytes)  \n",
      "5      6040204960187A105  CAS-1257   DATA  bytes  DATA (bytes)  \n",
      "7        604020021706459  BAH-1066   DATA  bytes  DATA (bytes)  \n",
      "...                  ...       ...    ...    ...           ...  \n",
      "99993  6040203EA0186A27A  CAS-1002   DATA  bytes  DATA (bytes)  \n",
      "99994  60402047001E4BB04  JAD-1091   DATA  bytes  DATA (bytes)  \n",
      "99995  60402047001E46802  JAD-1008   DATA  bytes  DATA (bytes)  \n",
      "99998    604020021637665  SBE-1060   DATA  bytes  DATA (bytes)  \n",
      "99999  6040204CF0226E509  BER-1029   DATA  bytes  DATA (bytes)  \n",
      "\n",
      "[58258 rows x 11 columns]\n"
     ]
    }
   ],
   "source": [
    "import pandas as pd\n",
    "\n",
    "# Filtrer les données avec source = 'voice'\n",
    "voice_data = data1.loc[data1['source'] == 'VOICE']\n",
    "\n",
    "# Filtrer les données avec source = 'data'\n",
    "data_data = data1.loc[data1['source'] == 'DATA']\n",
    "\n",
    "# Afficher les données avec source = 'voice'\n",
    "print(\"Voice Data:\")\n",
    "print(voice_data)\n",
    "\n",
    "# Afficher les données avec source = 'data'\n",
    "print(\"Data Data:\")\n",
    "print(data_data)"
   ]
  },
  {
   "cell_type": "code",
   "execution_count": 134,
   "id": "93cc3d07",
   "metadata": {},
   "outputs": [
    {
     "name": "stdout",
     "output_type": "stream",
     "text": [
      "                                  dn                       contract_id  \\\n",
      "2   0b5e0250349378314a8401f75f495c4d  58c618885751269597f2e2975e402059   \n",
      "4   3bcb0b787b016707465f0f1df7a66cc5  8a168523c7461d62cfe07f5251233479   \n",
      "6   84d840fb109c67825673535e790c25ea  8a05420dbca78228a3c34c35524e5380   \n",
      "8   ac780e9d1c7f15bd6aebb9ac1f6e7278  ef4916712434f6d318d625b688530656   \n",
      "10  ca35c1eddb232bd1313edf1650af4b87  6f876f77adcc715c8843499e73e2276f   \n",
      "\n",
      "    profile_id             subprofile                        produit  \\\n",
      "2         5291  * Value not available                         TicTac   \n",
      "4        86909  * Value not available         Forfait 99dhs Internet   \n",
      "6         4490  * Value not available  Offre migration voix gratuite   \n",
      "8        86916  * Value not available      Forfait 49dhs illimite RS   \n",
      "10         618  * Value not available                         TicTac   \n",
      "\n",
      "    full_vol          full_ci  full_bts source     unit      source_unit  \n",
      "2   0.916291  604020113642852  CHT-1002  VOICE  minutes  VOICE (minutes)  \n",
      "4   2.409944  604020123057612  CAS-2154  VOICE  minutes  VOICE (minutes)  \n",
      "6   0.223144  604020014400204  CAS-1204  VOICE  minutes  VOICE (minutes)  \n",
      "8   1.233532  604020117325608  MOH-1171  VOICE  minutes  VOICE (minutes)  \n",
      "10  0.360003  604020117351835  MOH-1201  VOICE  minutes  VOICE (minutes)  \n",
      "                                 dn                       contract_id  \\\n",
      "0  7af98149fede1fefb648bdf5ce2d656f  92712003f67cbb945db315d52fbcd5d6   \n",
      "1  59e2c9efc16e63d7d45109db66637773  b3554808e6367c420d072aa75619900c   \n",
      "3  81a23991f5b67a9041b19fe6bc3619d5  844984b8172d51395f3a548e05a58461   \n",
      "5  0cc2b4b36dc284edef312d522b441ab1  ed0e1fc33f62cb271a4e8c5f7503d9ac   \n",
      "7  b39285dde99c3665e8181a63f99d1755  ac5140fd1372f7c8ac6b303f5aee0d02   \n",
      "\n",
      "   profile_id             subprofile           produit   full_vol  \\\n",
      "0       81384  * Value not available  Idar Duo 199 dhs  21.988996   \n",
      "1       84001  * Value not available         TicTac 4G  20.372895   \n",
      "3        5292  * Value not available               MRE  19.898391   \n",
      "5        5291  * Value not available            TicTac   7.545918   \n",
      "7        2990  * Value not available               MRE  12.806814   \n",
      "\n",
      "             full_ci  full_bts source   unit   source_unit  \n",
      "0  6040204D101881B02  CAS-1379   DATA  bytes  DATA (bytes)  \n",
      "1  604020474029C2407  BAH-1044   DATA  bytes  DATA (bytes)  \n",
      "3  6040204CE01882E08  CAS-1398   DATA  bytes  DATA (bytes)  \n",
      "5  6040204960187A105  CAS-1257   DATA  bytes  DATA (bytes)  \n",
      "7    604020021706459  BAH-1066   DATA  bytes  DATA (bytes)  \n"
     ]
    },
    {
     "name": "stderr",
     "output_type": "stream",
     "text": [
      "C:\\Users\\hp\\AppData\\Local\\Temp\\ipykernel_7128\\1227038348.py:5: SettingWithCopyWarning: \n",
      "A value is trying to be set on a copy of a slice from a DataFrame.\n",
      "Try using .loc[row_indexer,col_indexer] = value instead\n",
      "\n",
      "See the caveats in the documentation: https://pandas.pydata.org/pandas-docs/stable/user_guide/indexing.html#returning-a-view-versus-a-copy\n",
      "  voice_data['full_vol'] = np.log(voice_data['full_vol']+1)\n",
      "C:\\Users\\hp\\AppData\\Local\\Temp\\ipykernel_7128\\1227038348.py:6: SettingWithCopyWarning: \n",
      "A value is trying to be set on a copy of a slice from a DataFrame.\n",
      "Try using .loc[row_indexer,col_indexer] = value instead\n",
      "\n",
      "See the caveats in the documentation: https://pandas.pydata.org/pandas-docs/stable/user_guide/indexing.html#returning-a-view-versus-a-copy\n",
      "  data_data['full_vol'] = np.log(data_data['full_vol']+1)\n"
     ]
    }
   ],
   "source": [
    "import pandas as pd\n",
    "import numpy as np\n",
    "\n",
    "# Appliquer la transformation logarithmique sur la colonne \"full_vol\"\n",
    "voice_data['full_vol'] = np.log(voice_data['full_vol']+1)\n",
    "data_data['full_vol'] = np.log(data_data['full_vol']+1)\n",
    "\n",
    "# Afficher les premières lignes du jeu de données transformé\n",
    "print(voice_data.head())\n",
    "print(data_data.head())"
   ]
  },
  {
   "cell_type": "code",
   "execution_count": 135,
   "id": "e3010487",
   "metadata": {},
   "outputs": [],
   "source": [
    "data_data.to_csv('C:/Users/hp/Desktop/prj_pfe_inwi/data_data.csv', index=False)"
   ]
  },
  {
   "cell_type": "code",
   "execution_count": 136,
   "id": "dffbf7c1",
   "metadata": {},
   "outputs": [],
   "source": [
    "voice_data.to_csv('C:/Users/hp/Desktop/prj_pfe_inwi/voice_data.csv', index=False)"
   ]
  },
  {
   "cell_type": "code",
   "execution_count": 108,
   "id": "01739720",
   "metadata": {},
   "outputs": [],
   "source": [
    "data1.to_csv('C:/Users/hp/Desktop/prj_pfe_inwi/traffic_matrix1ee.csv', index=False)"
   ]
  },
  {
   "cell_type": "code",
   "execution_count": 142,
   "id": "3632600e",
   "metadata": {},
   "outputs": [],
   "source": [
    "import pandas as pd\n",
    "data2 = pd.read_csv('C:/Users/hp/Desktop/prj_pfe_inwi/top_hier_bts_overall_d1_10000_chiffre.csv') "
   ]
  },
  {
   "cell_type": "code",
   "execution_count": 143,
   "id": "ea3b2227",
   "metadata": {
    "scrolled": true
   },
   "outputs": [
    {
     "name": "stdout",
     "output_type": "stream",
     "text": [
      "Index(['Unnamed: 0', 'date_debut', 'mdn', 'imsi', 'imei', 'idnt_contrat',\n",
      "       'idnt_client_crm', 'idnt_compte_facturation', 'idnt_profil',\n",
      "       'desc_profil', 'sous_profil', 'gamme', 'marche', 'segment', 'type_jour',\n",
      "       'princp_data_vol_jour_octets', 'princp_data_vol_jour_cell',\n",
      "       'princp_data_vol_jour_secteur', 'princp_data_vol_jour_bts',\n",
      "       'princp_data_vol_jour_ville', 'princp_data_vol_jour_region',\n",
      "       'princp_data_vol_jour_province', 'princp_data_vol_soir_octets',\n",
      "       'princp_data_vol_soir_cell', 'princp_data_vol_soir_secteur',\n",
      "       'princp_data_vol_soir_bts', 'princp_data_vol_soir_ville',\n",
      "       'princp_data_vol_soir_region', 'princp_data_vol_soir_province',\n",
      "       'princp_data_vol_nuit_octets', 'princp_data_vol_nuit_cell',\n",
      "       'princp_data_vol_nuit_secteur', 'princp_data_vol_nuit_bts',\n",
      "       'princp_data_vol_nuit_ville', 'princp_data_vol_nuit_region',\n",
      "       'princp_data_vol_nuit_province', 'princp_data_vol_total_octets',\n",
      "       'princp_data_vol_total_cell', 'princp_data_vol_total_secteur',\n",
      "       'princp_data_vol_total_bts', 'princp_data_vol_total_ville',\n",
      "       'princp_data_vol_total_region', 'princp_data_vol_total_province',\n",
      "       'princp_voix_dur_jour_minutes', 'princp_voix_dur_jour_cell',\n",
      "       'princp_voix_dur_jour_secteur', 'princp_voix_dur_jour_bts',\n",
      "       'princp_voix_dur_jour_ville', 'princp_voix_dur_jour_region',\n",
      "       'princp_voix_dur_jour_province', 'princp_voix_dur_soir_minutes',\n",
      "       'princp_voix_dur_soir_cell', 'princp_voix_dur_soir_secteur',\n",
      "       'princp_voix_dur_soir_bts', 'princp_voix_dur_soir_ville',\n",
      "       'princp_voix_dur_soir_region', 'princp_voix_dur_soir_province',\n",
      "       'princp_voix_dur_nuit_minutes', 'princp_voix_dur_nuit_cell',\n",
      "       'princp_voix_dur_nuit_secteur', 'princp_voix_dur_nuit_bts',\n",
      "       'princp_voix_dur_nuit_ville', 'princp_voix_dur_nuit_region',\n",
      "       'princp_voix_dur_nuit_province', 'princp_voix_dur_total_minutes',\n",
      "       'princp_voix_dur_total_cell', 'princp_voix_dur_total_secteur',\n",
      "       'princp_voix_dur_total_bts', 'princp_voix_dur_total_ville',\n",
      "       'princp_voix_dur_total_region', 'princp_voix_dur_total_province',\n",
      "       'princp_actv_total_cell', 'princp_actv_total_secteur',\n",
      "       'princp_actv_total_bts', 'princp_actv_ville', 'princp_actv_region',\n",
      "       'princp_actv_province', 'princp_vol_actv', 'princp_vol_actv_unit',\n",
      "       'idnt_date'],\n",
      "      dtype='object')\n"
     ]
    }
   ],
   "source": [
    "print(data2.columns)"
   ]
  },
  {
   "cell_type": "code",
   "execution_count": 144,
   "id": "b6866db7",
   "metadata": {
    "scrolled": true
   },
   "outputs": [
    {
     "name": "stdout",
     "output_type": "stream",
     "text": [
      "Index(['date_debut', 'mdn', 'imsi', 'imei', 'idnt_contrat', 'idnt_client_crm',\n",
      "       'idnt_compte_facturation', 'idnt_profil', 'desc_profil', 'sous_profil',\n",
      "       'gamme', 'marche', 'segment', 'type_jour',\n",
      "       'princp_data_vol_jour_octets', 'princp_data_vol_jour_cell',\n",
      "       'princp_data_vol_jour_secteur', 'princp_data_vol_jour_bts',\n",
      "       'princp_data_vol_jour_ville', 'princp_data_vol_jour_region',\n",
      "       'princp_data_vol_jour_province', 'princp_data_vol_soir_octets',\n",
      "       'princp_data_vol_soir_cell', 'princp_data_vol_soir_secteur',\n",
      "       'princp_data_vol_soir_bts', 'princp_data_vol_soir_ville',\n",
      "       'princp_data_vol_soir_region', 'princp_data_vol_soir_province',\n",
      "       'princp_data_vol_nuit_octets', 'princp_data_vol_nuit_cell',\n",
      "       'princp_data_vol_nuit_secteur', 'princp_data_vol_nuit_bts',\n",
      "       'princp_data_vol_nuit_ville', 'princp_data_vol_nuit_region',\n",
      "       'princp_data_vol_nuit_province', 'princp_data_vol_total_octets',\n",
      "       'princp_data_vol_total_cell', 'princp_data_vol_total_secteur',\n",
      "       'princp_data_vol_total_bts', 'princp_data_vol_total_ville',\n",
      "       'princp_data_vol_total_region', 'princp_data_vol_total_province',\n",
      "       'princp_voix_dur_jour_minutes', 'princp_voix_dur_jour_cell',\n",
      "       'princp_voix_dur_jour_secteur', 'princp_voix_dur_jour_bts',\n",
      "       'princp_voix_dur_jour_ville', 'princp_voix_dur_jour_region',\n",
      "       'princp_voix_dur_jour_province', 'princp_voix_dur_soir_minutes',\n",
      "       'princp_voix_dur_soir_cell', 'princp_voix_dur_soir_secteur',\n",
      "       'princp_voix_dur_soir_bts', 'princp_voix_dur_soir_ville',\n",
      "       'princp_voix_dur_soir_region', 'princp_voix_dur_soir_province',\n",
      "       'princp_voix_dur_nuit_minutes', 'princp_voix_dur_nuit_cell',\n",
      "       'princp_voix_dur_nuit_secteur', 'princp_voix_dur_nuit_bts',\n",
      "       'princp_voix_dur_nuit_ville', 'princp_voix_dur_nuit_region',\n",
      "       'princp_voix_dur_nuit_province', 'princp_voix_dur_total_minutes',\n",
      "       'princp_voix_dur_total_cell', 'princp_voix_dur_total_secteur',\n",
      "       'princp_voix_dur_total_bts', 'princp_voix_dur_total_ville',\n",
      "       'princp_voix_dur_total_region', 'princp_voix_dur_total_province',\n",
      "       'princp_actv_total_cell', 'princp_actv_total_secteur',\n",
      "       'princp_actv_total_bts', 'princp_actv_ville', 'princp_actv_region',\n",
      "       'princp_actv_province', 'princp_vol_actv', 'princp_vol_actv_unit',\n",
      "       'idnt_date'],\n",
      "      dtype='object')\n"
     ]
    }
   ],
   "source": [
    "data2= data2.drop(data2.columns[0], axis=1) \n",
    "print(data2.columns)"
   ]
  },
  {
   "cell_type": "code",
   "execution_count": 146,
   "id": "8eac8ab5",
   "metadata": {},
   "outputs": [],
   "source": [
    "data2['princp_data_vol_jour_octets'] = np.log(data2['princp_data_vol_jour_octets'] +1)\n",
    "data2['princp_data_vol_soir_octets'] = np.log(data2['princp_data_vol_soir_octets']+1)\n",
    "data2['princp_data_vol_nuit_octets'] = np.log(data2['princp_data_vol_nuit_octets']+1)\n",
    "data2['princp_data_vol_total_octets'] = np.log(data2['princp_data_vol_total_octets']+1)\n",
    "data2['princp_voix_dur_jour_minutes'] = np.log(data2['princp_voix_dur_jour_minutes']+1)\n",
    "data2['princp_voix_dur_soir_minutes'] = np.log(data2['princp_voix_dur_soir_minutes']+1) \n",
    "data2['princp_voix_dur_nuit_minutes'] = np.log(data2['princp_voix_dur_nuit_minutes']+1) \n",
    "data2['princp_voix_dur_total_minutes'] = np.log(data2['princp_voix_dur_total_minutes']+1)\n",
    "data2['princp_vol_actv'] = np.log(data2['princp_vol_actv']+1)"
   ]
  },
  {
   "cell_type": "code",
   "execution_count": 147,
   "id": "f2e1151d",
   "metadata": {
    "scrolled": true
   },
   "outputs": [
    {
     "name": "stdout",
     "output_type": "stream",
     "text": [
      "Index(['mdn', 'imsi', 'idnt_contrat', 'idnt_client_crm',\n",
      "       'idnt_compte_facturation', 'idnt_profil', 'desc_profil', 'sous_profil',\n",
      "       'gamme', 'marche', 'princp_data_vol_jour_octets',\n",
      "       'princp_data_vol_jour_cell', 'princp_data_vol_jour_secteur',\n",
      "       'princp_data_vol_jour_bts', 'princp_data_vol_jour_ville',\n",
      "       'princp_data_vol_jour_region', 'princp_data_vol_jour_province',\n",
      "       'princp_data_vol_soir_octets', 'princp_data_vol_soir_cell',\n",
      "       'princp_data_vol_soir_secteur', 'princp_data_vol_soir_bts',\n",
      "       'princp_data_vol_soir_ville', 'princp_data_vol_soir_region',\n",
      "       'princp_data_vol_soir_province', 'princp_data_vol_nuit_octets',\n",
      "       'princp_data_vol_nuit_cell', 'princp_data_vol_nuit_secteur',\n",
      "       'princp_data_vol_nuit_bts', 'princp_data_vol_nuit_ville',\n",
      "       'princp_data_vol_nuit_region', 'princp_data_vol_nuit_province',\n",
      "       'princp_data_vol_total_octets', 'princp_data_vol_total_cell',\n",
      "       'princp_data_vol_total_secteur', 'princp_data_vol_total_bts',\n",
      "       'princp_data_vol_total_ville', 'princp_data_vol_total_region',\n",
      "       'princp_data_vol_total_province', 'princp_voix_dur_jour_minutes',\n",
      "       'princp_voix_dur_jour_cell', 'princp_voix_dur_jour_secteur',\n",
      "       'princp_voix_dur_jour_bts', 'princp_voix_dur_jour_ville',\n",
      "       'princp_voix_dur_jour_region', 'princp_voix_dur_jour_province',\n",
      "       'princp_voix_dur_soir_minutes', 'princp_voix_dur_soir_cell',\n",
      "       'princp_voix_dur_soir_secteur', 'princp_voix_dur_soir_bts',\n",
      "       'princp_voix_dur_soir_ville', 'princp_voix_dur_soir_region',\n",
      "       'princp_voix_dur_soir_province', 'princp_voix_dur_nuit_minutes',\n",
      "       'princp_voix_dur_nuit_cell', 'princp_voix_dur_nuit_secteur',\n",
      "       'princp_voix_dur_nuit_bts', 'princp_voix_dur_nuit_ville',\n",
      "       'princp_voix_dur_nuit_region', 'princp_voix_dur_nuit_province',\n",
      "       'princp_voix_dur_total_minutes', 'princp_voix_dur_total_cell',\n",
      "       'princp_voix_dur_total_secteur', 'princp_voix_dur_total_bts',\n",
      "       'princp_voix_dur_total_ville', 'princp_voix_dur_total_region',\n",
      "       'princp_voix_dur_total_province', 'princp_actv_total_cell',\n",
      "       'princp_actv_total_secteur', 'princp_actv_total_bts',\n",
      "       'princp_actv_ville', 'princp_actv_province', 'princp_vol_actv',\n",
      "       'princp_vol_actv_unit'],\n",
      "      dtype='object')\n"
     ]
    }
   ],
   "source": [
    "columns_to_drop1 =['date_debut',\"imei\",'type_jour','segment','princp_actv_region','idnt_date']\n",
    "data2= data2.drop(columns=columns_to_drop1)\n",
    "print(data2.columns)"
   ]
  },
  {
   "cell_type": "code",
   "execution_count": 148,
   "id": "a55c3d66",
   "metadata": {},
   "outputs": [
    {
     "name": "stdout",
     "output_type": "stream",
     "text": [
      "Index(['mdn', 'imsi', 'idnt_contrat', 'idnt_client_crm',\n",
      "       'idnt_compte_facturation', 'idnt_profil', 'desc_profil', 'sous_profil',\n",
      "       'gamme', 'marche', 'princp_data_vol_jour_octets',\n",
      "       'princp_data_vol_jour_bts', 'princp_data_vol_soir_octets',\n",
      "       'princp_data_vol_soir_cell', 'princp_data_vol_soir_secteur',\n",
      "       'princp_data_vol_soir_bts', 'princp_data_vol_soir_ville',\n",
      "       'princp_data_vol_soir_region', 'princp_data_vol_soir_province',\n",
      "       'princp_data_vol_nuit_octets', 'princp_data_vol_nuit_cell',\n",
      "       'princp_data_vol_nuit_secteur', 'princp_data_vol_nuit_bts',\n",
      "       'princp_data_vol_nuit_ville', 'princp_data_vol_nuit_region',\n",
      "       'princp_data_vol_nuit_province', 'princp_data_vol_total_octets',\n",
      "       'princp_data_vol_total_cell', 'princp_data_vol_total_secteur',\n",
      "       'princp_data_vol_total_bts', 'princp_data_vol_total_ville',\n",
      "       'princp_data_vol_total_region', 'princp_data_vol_total_province',\n",
      "       'princp_voix_dur_jour_minutes', 'princp_voix_dur_jour_cell',\n",
      "       'princp_voix_dur_jour_secteur', 'princp_voix_dur_jour_bts',\n",
      "       'princp_voix_dur_jour_ville', 'princp_voix_dur_jour_region',\n",
      "       'princp_voix_dur_jour_province', 'princp_voix_dur_soir_minutes',\n",
      "       'princp_voix_dur_soir_cell', 'princp_voix_dur_soir_secteur',\n",
      "       'princp_voix_dur_soir_bts', 'princp_voix_dur_soir_ville',\n",
      "       'princp_voix_dur_soir_region', 'princp_voix_dur_soir_province',\n",
      "       'princp_voix_dur_nuit_minutes', 'princp_voix_dur_nuit_cell',\n",
      "       'princp_voix_dur_nuit_secteur', 'princp_voix_dur_nuit_bts',\n",
      "       'princp_voix_dur_nuit_ville', 'princp_voix_dur_nuit_region',\n",
      "       'princp_voix_dur_nuit_province', 'princp_voix_dur_total_minutes',\n",
      "       'princp_voix_dur_total_cell', 'princp_voix_dur_total_secteur',\n",
      "       'princp_voix_dur_total_bts', 'princp_voix_dur_total_ville',\n",
      "       'princp_voix_dur_total_region', 'princp_voix_dur_total_province',\n",
      "       'princp_actv_total_cell', 'princp_actv_total_secteur',\n",
      "       'princp_actv_total_bts', 'princp_actv_ville', 'princp_actv_province',\n",
      "       'princp_vol_actv', 'princp_vol_actv_unit'],\n",
      "      dtype='object')\n"
     ]
    }
   ],
   "source": [
    "columns_to_drop1=['princp_data_vol_jour_cell', 'princp_data_vol_jour_secteur', 'princp_data_vol_jour_ville', 'princp_data_vol_jour_region', 'princp_data_vol_jour_province']\n",
    "data2= data2.drop(columns=columns_to_drop1)\n",
    "print(data2.columns)"
   ]
  },
  {
   "cell_type": "code",
   "execution_count": 149,
   "id": "565dd882",
   "metadata": {},
   "outputs": [
    {
     "name": "stdout",
     "output_type": "stream",
     "text": [
      "Index(['mdn', 'imsi', 'idnt_contrat', 'idnt_client_crm',\n",
      "       'idnt_compte_facturation', 'idnt_profil', 'desc_profil', 'sous_profil',\n",
      "       'gamme', 'marche', 'princp_data_vol_jour_octets',\n",
      "       'princp_data_vol_jour_bts', 'princp_data_vol_soir_octets',\n",
      "       'princp_data_vol_soir_bts', 'princp_data_vol_nuit_octets',\n",
      "       'princp_data_vol_nuit_cell', 'princp_data_vol_nuit_secteur',\n",
      "       'princp_data_vol_nuit_bts', 'princp_data_vol_nuit_ville',\n",
      "       'princp_data_vol_nuit_region', 'princp_data_vol_nuit_province',\n",
      "       'princp_data_vol_total_octets', 'princp_data_vol_total_cell',\n",
      "       'princp_data_vol_total_secteur', 'princp_data_vol_total_bts',\n",
      "       'princp_data_vol_total_ville', 'princp_data_vol_total_region',\n",
      "       'princp_data_vol_total_province', 'princp_voix_dur_jour_minutes',\n",
      "       'princp_voix_dur_jour_cell', 'princp_voix_dur_jour_secteur',\n",
      "       'princp_voix_dur_jour_bts', 'princp_voix_dur_jour_ville',\n",
      "       'princp_voix_dur_jour_region', 'princp_voix_dur_jour_province',\n",
      "       'princp_voix_dur_soir_minutes', 'princp_voix_dur_soir_cell',\n",
      "       'princp_voix_dur_soir_secteur', 'princp_voix_dur_soir_bts',\n",
      "       'princp_voix_dur_soir_ville', 'princp_voix_dur_soir_region',\n",
      "       'princp_voix_dur_soir_province', 'princp_voix_dur_nuit_minutes',\n",
      "       'princp_voix_dur_nuit_cell', 'princp_voix_dur_nuit_secteur',\n",
      "       'princp_voix_dur_nuit_bts', 'princp_voix_dur_nuit_ville',\n",
      "       'princp_voix_dur_nuit_region', 'princp_voix_dur_nuit_province',\n",
      "       'princp_voix_dur_total_minutes', 'princp_voix_dur_total_cell',\n",
      "       'princp_voix_dur_total_secteur', 'princp_voix_dur_total_bts',\n",
      "       'princp_voix_dur_total_ville', 'princp_voix_dur_total_region',\n",
      "       'princp_voix_dur_total_province', 'princp_actv_total_cell',\n",
      "       'princp_actv_total_secteur', 'princp_actv_total_bts',\n",
      "       'princp_actv_ville', 'princp_actv_province', 'princp_vol_actv',\n",
      "       'princp_vol_actv_unit'],\n",
      "      dtype='object')\n"
     ]
    }
   ],
   "source": [
    "columns_to_drop1=['princp_data_vol_soir_cell', 'princp_data_vol_soir_secteur', 'princp_data_vol_soir_ville', 'princp_data_vol_soir_region', 'princp_data_vol_soir_province' ]\n",
    "data2= data2.drop(columns=columns_to_drop1)\n",
    "print(data2.columns)"
   ]
  },
  {
   "cell_type": "code",
   "execution_count": 150,
   "id": "b548d7eb",
   "metadata": {},
   "outputs": [
    {
     "name": "stdout",
     "output_type": "stream",
     "text": [
      "Index(['mdn', 'imsi', 'idnt_contrat', 'idnt_client_crm',\n",
      "       'idnt_compte_facturation', 'idnt_profil', 'desc_profil', 'sous_profil',\n",
      "       'gamme', 'marche', 'princp_data_vol_jour_octets',\n",
      "       'princp_data_vol_jour_bts', 'princp_data_vol_soir_octets',\n",
      "       'princp_data_vol_soir_bts', 'princp_data_vol_nuit_octets',\n",
      "       'princp_data_vol_nuit_bts', 'princp_data_vol_total_octets',\n",
      "       'princp_data_vol_total_cell', 'princp_data_vol_total_secteur',\n",
      "       'princp_data_vol_total_bts', 'princp_data_vol_total_ville',\n",
      "       'princp_data_vol_total_region', 'princp_data_vol_total_province',\n",
      "       'princp_voix_dur_jour_minutes', 'princp_voix_dur_jour_cell',\n",
      "       'princp_voix_dur_jour_secteur', 'princp_voix_dur_jour_bts',\n",
      "       'princp_voix_dur_jour_ville', 'princp_voix_dur_jour_region',\n",
      "       'princp_voix_dur_jour_province', 'princp_voix_dur_soir_minutes',\n",
      "       'princp_voix_dur_soir_cell', 'princp_voix_dur_soir_secteur',\n",
      "       'princp_voix_dur_soir_bts', 'princp_voix_dur_soir_ville',\n",
      "       'princp_voix_dur_soir_region', 'princp_voix_dur_soir_province',\n",
      "       'princp_voix_dur_nuit_minutes', 'princp_voix_dur_nuit_cell',\n",
      "       'princp_voix_dur_nuit_secteur', 'princp_voix_dur_nuit_bts',\n",
      "       'princp_voix_dur_nuit_ville', 'princp_voix_dur_nuit_region',\n",
      "       'princp_voix_dur_nuit_province', 'princp_voix_dur_total_minutes',\n",
      "       'princp_voix_dur_total_cell', 'princp_voix_dur_total_secteur',\n",
      "       'princp_voix_dur_total_bts', 'princp_voix_dur_total_ville',\n",
      "       'princp_voix_dur_total_region', 'princp_voix_dur_total_province',\n",
      "       'princp_actv_total_cell', 'princp_actv_total_secteur',\n",
      "       'princp_actv_total_bts', 'princp_actv_ville', 'princp_actv_province',\n",
      "       'princp_vol_actv', 'princp_vol_actv_unit'],\n",
      "      dtype='object')\n"
     ]
    }
   ],
   "source": [
    "columns_to_drop1=['princp_data_vol_nuit_cell', 'princp_data_vol_nuit_secteur', 'princp_data_vol_nuit_ville', 'princp_data_vol_nuit_region', 'princp_data_vol_nuit_province']\n",
    "data2= data2.drop(columns=columns_to_drop1)\n",
    "print(data2.columns)"
   ]
  },
  {
   "cell_type": "code",
   "execution_count": 151,
   "id": "d6adba9d",
   "metadata": {},
   "outputs": [
    {
     "name": "stdout",
     "output_type": "stream",
     "text": [
      "Index(['mdn', 'imsi', 'idnt_contrat', 'idnt_client_crm',\n",
      "       'idnt_compte_facturation', 'idnt_profil', 'desc_profil', 'sous_profil',\n",
      "       'gamme', 'marche', 'princp_data_vol_jour_octets',\n",
      "       'princp_data_vol_jour_bts', 'princp_data_vol_soir_octets',\n",
      "       'princp_data_vol_soir_bts', 'princp_data_vol_nuit_octets',\n",
      "       'princp_data_vol_nuit_bts', 'princp_data_vol_total_octets',\n",
      "       'princp_data_vol_total_bts', 'princp_voix_dur_jour_minutes',\n",
      "       'princp_voix_dur_jour_cell', 'princp_voix_dur_jour_secteur',\n",
      "       'princp_voix_dur_jour_bts', 'princp_voix_dur_jour_ville',\n",
      "       'princp_voix_dur_jour_region', 'princp_voix_dur_jour_province',\n",
      "       'princp_voix_dur_soir_minutes', 'princp_voix_dur_soir_cell',\n",
      "       'princp_voix_dur_soir_secteur', 'princp_voix_dur_soir_bts',\n",
      "       'princp_voix_dur_soir_ville', 'princp_voix_dur_soir_region',\n",
      "       'princp_voix_dur_soir_province', 'princp_voix_dur_nuit_minutes',\n",
      "       'princp_voix_dur_nuit_cell', 'princp_voix_dur_nuit_secteur',\n",
      "       'princp_voix_dur_nuit_bts', 'princp_voix_dur_nuit_ville',\n",
      "       'princp_voix_dur_nuit_region', 'princp_voix_dur_nuit_province',\n",
      "       'princp_voix_dur_total_minutes', 'princp_voix_dur_total_cell',\n",
      "       'princp_voix_dur_total_secteur', 'princp_voix_dur_total_bts',\n",
      "       'princp_voix_dur_total_ville', 'princp_voix_dur_total_region',\n",
      "       'princp_voix_dur_total_province', 'princp_actv_total_cell',\n",
      "       'princp_actv_total_secteur', 'princp_actv_total_bts',\n",
      "       'princp_actv_ville', 'princp_actv_province', 'princp_vol_actv',\n",
      "       'princp_vol_actv_unit'],\n",
      "      dtype='object')\n"
     ]
    }
   ],
   "source": [
    "columns_to_drop1=['princp_data_vol_total_cell', 'princp_data_vol_total_secteur', 'princp_data_vol_total_ville', 'princp_data_vol_total_region', 'princp_data_vol_total_province']\n",
    "data2= data2.drop(columns=columns_to_drop1)\n",
    "print(data2.columns)"
   ]
  },
  {
   "cell_type": "code",
   "execution_count": 152,
   "id": "ca24363c",
   "metadata": {},
   "outputs": [
    {
     "name": "stdout",
     "output_type": "stream",
     "text": [
      "Index(['mdn', 'imsi', 'idnt_contrat', 'idnt_client_crm',\n",
      "       'idnt_compte_facturation', 'idnt_profil', 'desc_profil', 'sous_profil',\n",
      "       'gamme', 'marche', 'princp_data_vol_jour_octets',\n",
      "       'princp_data_vol_jour_bts', 'princp_data_vol_soir_octets',\n",
      "       'princp_data_vol_soir_bts', 'princp_data_vol_nuit_octets',\n",
      "       'princp_data_vol_nuit_bts', 'princp_data_vol_total_octets',\n",
      "       'princp_data_vol_total_bts', 'princp_voix_dur_jour_minutes',\n",
      "       'princp_voix_dur_jour_bts', 'princp_voix_dur_soir_minutes',\n",
      "       'princp_voix_dur_soir_cell', 'princp_voix_dur_soir_secteur',\n",
      "       'princp_voix_dur_soir_bts', 'princp_voix_dur_soir_ville',\n",
      "       'princp_voix_dur_soir_region', 'princp_voix_dur_soir_province',\n",
      "       'princp_voix_dur_nuit_minutes', 'princp_voix_dur_nuit_cell',\n",
      "       'princp_voix_dur_nuit_secteur', 'princp_voix_dur_nuit_bts',\n",
      "       'princp_voix_dur_nuit_ville', 'princp_voix_dur_nuit_region',\n",
      "       'princp_voix_dur_nuit_province', 'princp_voix_dur_total_minutes',\n",
      "       'princp_voix_dur_total_cell', 'princp_voix_dur_total_secteur',\n",
      "       'princp_voix_dur_total_bts', 'princp_voix_dur_total_ville',\n",
      "       'princp_voix_dur_total_region', 'princp_voix_dur_total_province',\n",
      "       'princp_actv_total_cell', 'princp_actv_total_secteur',\n",
      "       'princp_actv_total_bts', 'princp_actv_ville', 'princp_actv_province',\n",
      "       'princp_vol_actv', 'princp_vol_actv_unit'],\n",
      "      dtype='object')\n"
     ]
    }
   ],
   "source": [
    "columns_to_drop1=['princp_voix_dur_jour_cell', 'princp_voix_dur_jour_secteur', 'princp_voix_dur_jour_ville', 'princp_voix_dur_jour_region', 'princp_voix_dur_jour_province']\n",
    "data2= data2.drop(columns=columns_to_drop1)\n",
    "print(data2.columns)"
   ]
  },
  {
   "cell_type": "code",
   "execution_count": 153,
   "id": "d19739b8",
   "metadata": {},
   "outputs": [
    {
     "name": "stdout",
     "output_type": "stream",
     "text": [
      "Index(['mdn', 'imsi', 'idnt_contrat', 'idnt_client_crm',\n",
      "       'idnt_compte_facturation', 'idnt_profil', 'desc_profil', 'sous_profil',\n",
      "       'gamme', 'marche', 'princp_data_vol_jour_octets',\n",
      "       'princp_data_vol_jour_bts', 'princp_data_vol_soir_octets',\n",
      "       'princp_data_vol_soir_bts', 'princp_data_vol_nuit_octets',\n",
      "       'princp_data_vol_nuit_bts', 'princp_data_vol_total_octets',\n",
      "       'princp_data_vol_total_bts', 'princp_voix_dur_jour_minutes',\n",
      "       'princp_voix_dur_jour_bts', 'princp_voix_dur_soir_minutes',\n",
      "       'princp_voix_dur_soir_bts', 'princp_voix_dur_nuit_minutes',\n",
      "       'princp_voix_dur_nuit_cell', 'princp_voix_dur_nuit_secteur',\n",
      "       'princp_voix_dur_nuit_bts', 'princp_voix_dur_nuit_ville',\n",
      "       'princp_voix_dur_nuit_region', 'princp_voix_dur_nuit_province',\n",
      "       'princp_voix_dur_total_minutes', 'princp_voix_dur_total_cell',\n",
      "       'princp_voix_dur_total_secteur', 'princp_voix_dur_total_bts',\n",
      "       'princp_voix_dur_total_ville', 'princp_voix_dur_total_region',\n",
      "       'princp_voix_dur_total_province', 'princp_actv_total_cell',\n",
      "       'princp_actv_total_secteur', 'princp_actv_total_bts',\n",
      "       'princp_actv_ville', 'princp_actv_province', 'princp_vol_actv',\n",
      "       'princp_vol_actv_unit'],\n",
      "      dtype='object')\n"
     ]
    }
   ],
   "source": [
    "columns_to_drop1=['princp_voix_dur_soir_cell','princp_voix_dur_soir_secteur', 'princp_voix_dur_soir_ville', 'princp_voix_dur_soir_region', 'princp_voix_dur_soir_province']\n",
    "data2= data2.drop(columns=columns_to_drop1)\n",
    "print(data2.columns)"
   ]
  },
  {
   "cell_type": "code",
   "execution_count": 154,
   "id": "6acc6acd",
   "metadata": {},
   "outputs": [
    {
     "name": "stdout",
     "output_type": "stream",
     "text": [
      "Index(['mdn', 'imsi', 'idnt_contrat', 'idnt_client_crm',\n",
      "       'idnt_compte_facturation', 'idnt_profil', 'desc_profil', 'sous_profil',\n",
      "       'gamme', 'marche', 'princp_data_vol_jour_octets',\n",
      "       'princp_data_vol_jour_bts', 'princp_data_vol_soir_octets',\n",
      "       'princp_data_vol_soir_bts', 'princp_data_vol_nuit_octets',\n",
      "       'princp_data_vol_nuit_bts', 'princp_data_vol_total_octets',\n",
      "       'princp_data_vol_total_bts', 'princp_voix_dur_jour_minutes',\n",
      "       'princp_voix_dur_jour_bts', 'princp_voix_dur_soir_minutes',\n",
      "       'princp_voix_dur_soir_bts', 'princp_voix_dur_nuit_minutes',\n",
      "       'princp_voix_dur_nuit_bts', 'princp_voix_dur_total_minutes',\n",
      "       'princp_voix_dur_total_cell', 'princp_voix_dur_total_secteur',\n",
      "       'princp_voix_dur_total_bts', 'princp_voix_dur_total_ville',\n",
      "       'princp_voix_dur_total_region', 'princp_voix_dur_total_province',\n",
      "       'princp_actv_total_cell', 'princp_actv_total_secteur',\n",
      "       'princp_actv_total_bts', 'princp_actv_ville', 'princp_actv_province',\n",
      "       'princp_vol_actv', 'princp_vol_actv_unit'],\n",
      "      dtype='object')\n"
     ]
    }
   ],
   "source": [
    "columns_to_drop1=['princp_voix_dur_nuit_cell', 'princp_voix_dur_nuit_secteur', 'princp_voix_dur_nuit_ville', 'princp_voix_dur_nuit_region', 'princp_voix_dur_nuit_province' ]\n",
    "data2= data2.drop(columns=columns_to_drop1)\n",
    "print(data2.columns)"
   ]
  },
  {
   "cell_type": "code",
   "execution_count": 155,
   "id": "351c9fda",
   "metadata": {},
   "outputs": [
    {
     "name": "stdout",
     "output_type": "stream",
     "text": [
      "Index(['mdn', 'imsi', 'idnt_contrat', 'idnt_client_crm',\n",
      "       'idnt_compte_facturation', 'idnt_profil', 'desc_profil', 'sous_profil',\n",
      "       'gamme', 'marche', 'princp_data_vol_jour_octets',\n",
      "       'princp_data_vol_jour_bts', 'princp_data_vol_soir_octets',\n",
      "       'princp_data_vol_soir_bts', 'princp_data_vol_nuit_octets',\n",
      "       'princp_data_vol_nuit_bts', 'princp_data_vol_total_octets',\n",
      "       'princp_data_vol_total_bts', 'princp_voix_dur_jour_minutes',\n",
      "       'princp_voix_dur_jour_bts', 'princp_voix_dur_soir_minutes',\n",
      "       'princp_voix_dur_soir_bts', 'princp_voix_dur_nuit_minutes',\n",
      "       'princp_voix_dur_nuit_bts', 'princp_voix_dur_total_minutes',\n",
      "       'princp_voix_dur_total_bts', 'princp_actv_total_cell',\n",
      "       'princp_actv_total_secteur', 'princp_actv_total_bts',\n",
      "       'princp_actv_ville', 'princp_actv_province', 'princp_vol_actv',\n",
      "       'princp_vol_actv_unit'],\n",
      "      dtype='object')\n"
     ]
    }
   ],
   "source": [
    "columns_to_drop1=['princp_voix_dur_total_cell', 'princp_voix_dur_total_secteur', 'princp_voix_dur_total_ville', 'princp_voix_dur_total_region', 'princp_voix_dur_total_province' ]\n",
    "data2= data2.drop(columns=columns_to_drop1)\n",
    "print(data2.columns)"
   ]
  },
  {
   "cell_type": "code",
   "execution_count": 156,
   "id": "aa7dffa7",
   "metadata": {},
   "outputs": [
    {
     "name": "stdout",
     "output_type": "stream",
     "text": [
      "                                    mdn                              imsi  \\\n",
      "0      479e5ba06010b11c6618fff004e01a99  7f723cf242e408c9ae33705362d3229d   \n",
      "1      8dcd4c612b90296c577a7bce1cd475fd  03e5f7c2355fba57bfc89180ea0fb096   \n",
      "2      0adf7cb1e06a2572a658ef4b5d9b0861  e35e6bb76db99e2c3ced86cf8c7fd291   \n",
      "3      24316ae30425c7c0e29d904b291361c6  acdeb52eafb753f9f41774d47ae79fe9   \n",
      "4      d588b29003e6bd796ca86dde42331d3a  4fa312a2473c3eb83ac6ff8ac02a5ba8   \n",
      "...                                 ...                               ...   \n",
      "99995  912b4be4bc954d5abfb07ff8731fb4f8  3e04b6130a1e7f912ace1401c8fd9c7b   \n",
      "99996  ca6e9d9a4151a4b7d8ac99931589ace5  064754a6858c28f9d375b3848fed5d02   \n",
      "99997  ec3f8165a9cd6b6e1dba6735ed41bec0  64d382af09dc3f6a0e17b6b9a3a5ae14   \n",
      "99998  aee0be79133a8cb356e873111adb705a  215f7cb969ef8fa4669cca7050b0b84f   \n",
      "99999  12a45628aee16fa9a46b5f4fc197a9ba  0b01cdf8686edd81f888a07104c10013   \n",
      "\n",
      "                           idnt_contrat                   idnt_client_crm  \\\n",
      "0      510bcb0cebfdaf7a6b886aeea65dc890  2c1d4c8dc3926c2f36e60b51f39dd41d   \n",
      "1      b076d3494b24ca7ab2aa0d53af8823dc  b7f6cee4d32e5d7408a8d55cfdb27b08   \n",
      "2      6d926a6b57b6ea793173323d50008b6d  f198a2ee467012e0366014da12557af9   \n",
      "3      27805c2ca82f606dc6cecc42ebb28e63  078c3bda9e5a8201c8f536acad01633b   \n",
      "4      69d57941df21c0e5b29a38623c672edc  dd07082998c00a3bd6b0f907e490fa05   \n",
      "...                                 ...                               ...   \n",
      "99995  e4cb30209cd9fb0f75c88cc40e7aeee2  3000423a505e34d9062da576a1310c0e   \n",
      "99996  43a2633bd6d8b51a4d21b14923dd07b6  29cc84edb530a71a17be9b34120226e1   \n",
      "99997  bf98875e4ac121be8cd3bf4b08b5959e  98efd16c2aca33eb3454827d32a29aa5   \n",
      "99998  8a0a0939338f2e8e4b899d9e83e850eb  18a25f21e915cc0eaf86f70b20fb0828   \n",
      "99999  797c90f3a9640201bc5f84ee61146dff  3f8ab2cab6be74e74830eabeab4a6f9f   \n",
      "\n",
      "                idnt_compte_facturation                       idnt_profil  \\\n",
      "0      5a446deabe79d6966125b528b16afa97  5ea6242e1428266e5b4a2d4ecd764388   \n",
      "1      f3e843f0a243905b19b12d91afb1a81c  5ea6242e1428266e5b4a2d4ecd764388   \n",
      "2      e7d49ee7e0bd2267e4e5bdcb1452ccf4  005e6278fb49751ef475a251adcde5c4   \n",
      "3      fedb1808c2895c6159d68610f6a41611  5ea6242e1428266e5b4a2d4ecd764388   \n",
      "4      90a0acd42594912f948192d04af6f8e4  9d9266b961c13eb73c0c1193ad0c8047   \n",
      "...                                 ...                               ...   \n",
      "99995  34bd6ee21f5332d3420ca8fefa40700a  5ea6242e1428266e5b4a2d4ecd764388   \n",
      "99996  78a6f586887baaf29ace7e54ab8b5573  5ea6242e1428266e5b4a2d4ecd764388   \n",
      "99997  03ebecfc0ee15b9430f437077a09277e  48ab9392e7ce14d2b2f03b40da2564c4   \n",
      "99998  4a9e400c0e52a15c3fbe8ffa595ce917  5ea6242e1428266e5b4a2d4ecd764388   \n",
      "99999  a07dc5fa20065d3a2ee5e8919f61d412  5ea6242e1428266e5b4a2d4ecd764388   \n",
      "\n",
      "                        desc_profil            sous_profil            gamme  \\\n",
      "0                         TicTac 4G  * Value not available           TicTac   \n",
      "1                         TicTac 4G  * Value not available           TicTac   \n",
      "2                            TicTac                     57           TicTac   \n",
      "3                         TicTac 4G  * Value not available           TicTac   \n",
      "4                  Idar Duo 249 dhs  * Value not available             Idar   \n",
      "...                             ...                    ...              ...   \n",
      "99995                     TicTac 4G  * Value not available           TicTac   \n",
      "99996                     TicTac 4G  * Value not available           TicTac   \n",
      "99997  Forfait Illimité inwi 4H+1Go  * Value not available  Forfaits 49 dhs   \n",
      "99998                     TicTac 4G  * Value not available           TicTac   \n",
      "99999                     TicTac 4G  * Value not available           TicTac   \n",
      "\n",
      "                marche  ...  princp_voix_dur_nuit_bts  \\\n",
      "0       Mobile Prepaid  ...     * Value not available   \n",
      "1       Mobile Prepaid  ...     * Value not available   \n",
      "2       Mobile Prepaid  ...           * Key not found   \n",
      "3       Mobile Prepaid  ...           * Key not found   \n",
      "4                 Home  ...     * Value not available   \n",
      "...                ...  ...                       ...   \n",
      "99995   Mobile Prepaid  ...           * Key not found   \n",
      "99996   Mobile Prepaid  ...           * Key not found   \n",
      "99997  Mobile Postpaid  ...           * Key not found   \n",
      "99998   Mobile Prepaid  ...     * Value not available   \n",
      "99999   Mobile Prepaid  ...     * Value not available   \n",
      "\n",
      "      princp_voix_dur_total_minutes  princp_voix_dur_total_bts  \\\n",
      "0                               NaN      * Value not available   \n",
      "1                               NaN      * Value not available   \n",
      "2                          0.660672                   OAB-1004   \n",
      "3                          0.495826                   MOH-1054   \n",
      "4                               NaN      * Value not available   \n",
      "...                             ...                        ...   \n",
      "99995                      0.554998                   CAS-1369   \n",
      "99996                      0.290033                   CAS-1466   \n",
      "99997                      1.493020                   BER-1023   \n",
      "99998                           NaN      * Value not available   \n",
      "99999                           NaN      * Value not available   \n",
      "\n",
      "      princp_actv_total_cell  princp_actv_total_secteur princp_actv_total_bts  \\\n",
      "0          6040204D1018A0D02               CAS-1877_L-2              CAS-1877   \n",
      "1          6040204960187D205               CAS-1306_L-5              CAS-1306   \n",
      "2            604020123156969              OAB-1004_U-93              OAB-1004   \n",
      "3            604020117302254               MOH-1054_U-1              MOH-1054   \n",
      "4          60402049501DCA266              MOH-1018_L-M2              MOH-1018   \n",
      "...                      ...                        ...                   ...   \n",
      "99995        604020123328369               CAS-1369_U-9              CAS-1369   \n",
      "99996        604020123328466               CAS-1466_U-9              CAS-1466   \n",
      "99997        604020123164551              BER-1023_U-91              BER-1023   \n",
      "99998      60402047003577A08              CHT-1002_L-82              CHT-1002   \n",
      "99999        604020123142717               BER-1017_U-5              BER-1017   \n",
      "\n",
      "                     princp_actv_ville princp_actv_province  princp_vol_actv  \\\n",
      "0                           CASABLANCA           Casablanca        19.786493   \n",
      "1                           CASABLANCA           Casablanca        16.820786   \n",
      "2                          LAGHNIMYINE            Berrechid         0.936093   \n",
      "3                          BNI YAKHLEF           Mohammadia         0.641854   \n",
      "4                           MOHAMMEDIA           Mohammadia        22.386278   \n",
      "...                                ...                  ...              ...   \n",
      "99995                       CASABLANCA           Casablanca         0.741937   \n",
      "99996                       CASABLANCA           Casablanca         0.336472   \n",
      "99997                        BERRECHID            Berrechid         3.450517   \n",
      "99998                    TNINE CHTOUKA            El Jadida        17.802808   \n",
      "99999  Ext_Urb_Grand Casablanca-Settat               Settat        18.449121   \n",
      "\n",
      "      princp_vol_actv_unit  \n",
      "0                    bytes  \n",
      "1                    bytes  \n",
      "2                  minutes  \n",
      "3                  minutes  \n",
      "4                    bytes  \n",
      "...                    ...  \n",
      "99995              minutes  \n",
      "99996              minutes  \n",
      "99997              minutes  \n",
      "99998                bytes  \n",
      "99999                bytes  \n",
      "\n",
      "[100000 rows x 33 columns]\n"
     ]
    }
   ],
   "source": [
    "print(data2)"
   ]
  },
  {
   "cell_type": "code",
   "execution_count": 157,
   "id": "b323c70c",
   "metadata": {
    "scrolled": true
   },
   "outputs": [
    {
     "name": "stdout",
     "output_type": "stream",
     "text": [
      "Index(['mdn', 'imsi', 'idnt_contrat', 'idnt_client_crm',\n",
      "       'idnt_compte_facturation', 'idnt_profil', 'desc_profil',\n",
      "       'princp_data_vol_jour_octets', 'princp_data_vol_jour_bts',\n",
      "       'princp_data_vol_soir_octets', 'princp_data_vol_soir_bts',\n",
      "       'princp_data_vol_nuit_octets', 'princp_data_vol_nuit_bts',\n",
      "       'princp_data_vol_total_octets', 'princp_data_vol_total_bts',\n",
      "       'princp_voix_dur_jour_minutes', 'princp_voix_dur_jour_bts',\n",
      "       'princp_voix_dur_soir_minutes', 'princp_voix_dur_soir_bts',\n",
      "       'princp_voix_dur_nuit_minutes', 'princp_voix_dur_nuit_bts',\n",
      "       'princp_voix_dur_total_minutes', 'princp_voix_dur_total_bts',\n",
      "       'princp_actv_total_bts', 'princp_actv_ville', 'princp_actv_province',\n",
      "       'princp_vol_actv', 'princp_vol_actv_unit'],\n",
      "      dtype='object')\n"
     ]
    }
   ],
   "source": [
    "columns_to_drop1=['princp_actv_total_cell', 'princp_actv_total_secteur','gamme', 'sous_profil', 'marche']\n",
    "data2= data2.drop(columns=columns_to_drop1)\n",
    "print(data2.columns)"
   ]
  },
  {
   "cell_type": "code",
   "execution_count": 158,
   "id": "eb33c6dc",
   "metadata": {
    "scrolled": true
   },
   "outputs": [
    {
     "name": "stdout",
     "output_type": "stream",
     "text": [
      "                                    mdn                              imsi  \\\n",
      "0      479e5ba06010b11c6618fff004e01a99  7f723cf242e408c9ae33705362d3229d   \n",
      "1      8dcd4c612b90296c577a7bce1cd475fd  03e5f7c2355fba57bfc89180ea0fb096   \n",
      "2      0adf7cb1e06a2572a658ef4b5d9b0861  e35e6bb76db99e2c3ced86cf8c7fd291   \n",
      "3      24316ae30425c7c0e29d904b291361c6  acdeb52eafb753f9f41774d47ae79fe9   \n",
      "4      d588b29003e6bd796ca86dde42331d3a  4fa312a2473c3eb83ac6ff8ac02a5ba8   \n",
      "...                                 ...                               ...   \n",
      "99995  912b4be4bc954d5abfb07ff8731fb4f8  3e04b6130a1e7f912ace1401c8fd9c7b   \n",
      "99996  ca6e9d9a4151a4b7d8ac99931589ace5  064754a6858c28f9d375b3848fed5d02   \n",
      "99997  ec3f8165a9cd6b6e1dba6735ed41bec0  64d382af09dc3f6a0e17b6b9a3a5ae14   \n",
      "99998  aee0be79133a8cb356e873111adb705a  215f7cb969ef8fa4669cca7050b0b84f   \n",
      "99999  12a45628aee16fa9a46b5f4fc197a9ba  0b01cdf8686edd81f888a07104c10013   \n",
      "\n",
      "                           idnt_contrat                   idnt_client_crm  \\\n",
      "0      510bcb0cebfdaf7a6b886aeea65dc890  2c1d4c8dc3926c2f36e60b51f39dd41d   \n",
      "1      b076d3494b24ca7ab2aa0d53af8823dc  b7f6cee4d32e5d7408a8d55cfdb27b08   \n",
      "2      6d926a6b57b6ea793173323d50008b6d  f198a2ee467012e0366014da12557af9   \n",
      "3      27805c2ca82f606dc6cecc42ebb28e63  078c3bda9e5a8201c8f536acad01633b   \n",
      "4      69d57941df21c0e5b29a38623c672edc  dd07082998c00a3bd6b0f907e490fa05   \n",
      "...                                 ...                               ...   \n",
      "99995  e4cb30209cd9fb0f75c88cc40e7aeee2  3000423a505e34d9062da576a1310c0e   \n",
      "99996  43a2633bd6d8b51a4d21b14923dd07b6  29cc84edb530a71a17be9b34120226e1   \n",
      "99997  bf98875e4ac121be8cd3bf4b08b5959e  98efd16c2aca33eb3454827d32a29aa5   \n",
      "99998  8a0a0939338f2e8e4b899d9e83e850eb  18a25f21e915cc0eaf86f70b20fb0828   \n",
      "99999  797c90f3a9640201bc5f84ee61146dff  3f8ab2cab6be74e74830eabeab4a6f9f   \n",
      "\n",
      "                idnt_compte_facturation                       idnt_profil  \\\n",
      "0      5a446deabe79d6966125b528b16afa97  5ea6242e1428266e5b4a2d4ecd764388   \n",
      "1      f3e843f0a243905b19b12d91afb1a81c  5ea6242e1428266e5b4a2d4ecd764388   \n",
      "2      e7d49ee7e0bd2267e4e5bdcb1452ccf4  005e6278fb49751ef475a251adcde5c4   \n",
      "3      fedb1808c2895c6159d68610f6a41611  5ea6242e1428266e5b4a2d4ecd764388   \n",
      "4      90a0acd42594912f948192d04af6f8e4  9d9266b961c13eb73c0c1193ad0c8047   \n",
      "...                                 ...                               ...   \n",
      "99995  34bd6ee21f5332d3420ca8fefa40700a  5ea6242e1428266e5b4a2d4ecd764388   \n",
      "99996  78a6f586887baaf29ace7e54ab8b5573  5ea6242e1428266e5b4a2d4ecd764388   \n",
      "99997  03ebecfc0ee15b9430f437077a09277e  48ab9392e7ce14d2b2f03b40da2564c4   \n",
      "99998  4a9e400c0e52a15c3fbe8ffa595ce917  5ea6242e1428266e5b4a2d4ecd764388   \n",
      "99999  a07dc5fa20065d3a2ee5e8919f61d412  5ea6242e1428266e5b4a2d4ecd764388   \n",
      "\n",
      "                        desc_profil  princp_data_vol_jour_octets  \\\n",
      "0                         TicTac 4G                     2.994963   \n",
      "1                         TicTac 4G                     2.880366   \n",
      "2                            TicTac                     3.045920   \n",
      "3                         TicTac 4G                     0.000000   \n",
      "4                  Idar Duo 249 dhs                     3.150284   \n",
      "...                             ...                          ...   \n",
      "99995                     TicTac 4G                     2.932055   \n",
      "99996                     TicTac 4G                     2.989013   \n",
      "99997  Forfait Illimité inwi 4H+1Go                     2.957250   \n",
      "99998                     TicTac 4G                     0.000000   \n",
      "99999                     TicTac 4G                     2.928402   \n",
      "\n",
      "      princp_data_vol_jour_bts  princp_data_vol_soir_octets  ...  \\\n",
      "0                     CAS-1877                     2.990700  ...   \n",
      "1                     CAS-1306                     0.000000  ...   \n",
      "2                     OAB-1004                     2.882404  ...   \n",
      "3              * Key not found                     2.957259  ...   \n",
      "4                     MOH-1018                     0.000000  ...   \n",
      "...                        ...                          ...  ...   \n",
      "99995                 CAS-1369                     3.025220  ...   \n",
      "99996                 CAS-1869                     2.985273  ...   \n",
      "99997                 BER-1023                     0.000000  ...   \n",
      "99998          * Key not found                     0.000000  ...   \n",
      "99999                 BER-1017                     2.415720  ...   \n",
      "\n",
      "      princp_voix_dur_soir_bts  princp_voix_dur_nuit_minutes  \\\n",
      "0        * Value not available                           NaN   \n",
      "1        * Value not available                           NaN   \n",
      "2                     OAB-1004                           0.0   \n",
      "3                     MOH-1054                           0.0   \n",
      "4        * Value not available                           NaN   \n",
      "...                        ...                           ...   \n",
      "99995                 CAS-1369                           0.0   \n",
      "99996                 CAS-1466                           0.0   \n",
      "99997                 BER-1023                           0.0   \n",
      "99998    * Value not available                           NaN   \n",
      "99999    * Value not available                           NaN   \n",
      "\n",
      "      princp_voix_dur_nuit_bts  princp_voix_dur_total_minutes  \\\n",
      "0        * Value not available                            NaN   \n",
      "1        * Value not available                            NaN   \n",
      "2              * Key not found                       0.660672   \n",
      "3              * Key not found                       0.495826   \n",
      "4        * Value not available                            NaN   \n",
      "...                        ...                            ...   \n",
      "99995          * Key not found                       0.554998   \n",
      "99996          * Key not found                       0.290033   \n",
      "99997          * Key not found                       1.493020   \n",
      "99998    * Value not available                            NaN   \n",
      "99999    * Value not available                            NaN   \n",
      "\n",
      "      princp_voix_dur_total_bts  princp_actv_total_bts  \\\n",
      "0         * Value not available               CAS-1877   \n",
      "1         * Value not available               CAS-1306   \n",
      "2                      OAB-1004               OAB-1004   \n",
      "3                      MOH-1054               MOH-1054   \n",
      "4         * Value not available               MOH-1018   \n",
      "...                         ...                    ...   \n",
      "99995                  CAS-1369               CAS-1369   \n",
      "99996                  CAS-1466               CAS-1466   \n",
      "99997                  BER-1023               BER-1023   \n",
      "99998     * Value not available               CHT-1002   \n",
      "99999     * Value not available               BER-1017   \n",
      "\n",
      "                     princp_actv_ville  princp_actv_province princp_vol_actv  \\\n",
      "0                           CASABLANCA            Casablanca       19.786493   \n",
      "1                           CASABLANCA            Casablanca       16.820786   \n",
      "2                          LAGHNIMYINE             Berrechid        0.936093   \n",
      "3                          BNI YAKHLEF            Mohammadia        0.641854   \n",
      "4                           MOHAMMEDIA            Mohammadia       22.386278   \n",
      "...                                ...                   ...             ...   \n",
      "99995                       CASABLANCA            Casablanca        0.741937   \n",
      "99996                       CASABLANCA            Casablanca        0.336472   \n",
      "99997                        BERRECHID             Berrechid        3.450517   \n",
      "99998                    TNINE CHTOUKA             El Jadida       17.802808   \n",
      "99999  Ext_Urb_Grand Casablanca-Settat                Settat       18.449121   \n",
      "\n",
      "       princp_vol_actv_unit  \n",
      "0                     bytes  \n",
      "1                     bytes  \n",
      "2                   minutes  \n",
      "3                   minutes  \n",
      "4                     bytes  \n",
      "...                     ...  \n",
      "99995               minutes  \n",
      "99996               minutes  \n",
      "99997               minutes  \n",
      "99998                 bytes  \n",
      "99999                 bytes  \n",
      "\n",
      "[100000 rows x 28 columns]\n"
     ]
    }
   ],
   "source": [
    "print(data2)"
   ]
  },
  {
   "cell_type": "code",
   "execution_count": 159,
   "id": "575aeadb",
   "metadata": {},
   "outputs": [
    {
     "name": "stdout",
     "output_type": "stream",
     "text": [
      "Index(['mdn', 'imsi', 'idnt_contrat', 'idnt_client_crm',\n",
      "       'idnt_compte_facturation', 'idnt_profil', 'desc_profil',\n",
      "       'princp_data_vol_jour_octets', 'princp_data_vol_jour_bts',\n",
      "       'princp_data_vol_soir_octets', 'princp_data_vol_soir_bts',\n",
      "       'princp_data_vol_nuit_octets', 'princp_data_vol_nuit_bts',\n",
      "       'princp_data_vol_total_octets', 'princp_data_vol_total_bts',\n",
      "       'princp_voix_dur_jour_minutes', 'princp_voix_dur_jour_bts',\n",
      "       'princp_voix_dur_soir_minutes', 'princp_voix_dur_soir_bts',\n",
      "       'princp_voix_dur_nuit_minutes', 'princp_voix_dur_nuit_bts',\n",
      "       'princp_voix_dur_total_minutes', 'princp_voix_dur_total_bts',\n",
      "       'princp_actv_total_bts', 'princp_actv_ville', 'princp_vol_actv',\n",
      "       'princp_vol_actv_unit'],\n",
      "      dtype='object')\n"
     ]
    }
   ],
   "source": [
    "columns_to_drop1=[\"princp_actv_province\"]\n",
    "data2= data2.drop(columns=columns_to_drop1)\n",
    "print(data2.columns)"
   ]
  },
  {
   "cell_type": "code",
   "execution_count": 160,
   "id": "9c4c6376",
   "metadata": {},
   "outputs": [],
   "source": [
    "data2['princp_vol_actv(unit)'] = data2.apply(lambda row: f\"{row['princp_vol_actv']} ({row['princp_vol_actv_unit']})\", axis=1)"
   ]
  },
  {
   "cell_type": "code",
   "execution_count": 161,
   "id": "a12e2d69",
   "metadata": {},
   "outputs": [
    {
     "name": "stdout",
     "output_type": "stream",
     "text": [
      "Index(['mdn', 'imsi', 'idnt_contrat', 'idnt_client_crm',\n",
      "       'idnt_compte_facturation', 'idnt_profil', 'desc_profil',\n",
      "       'princp_data_vol_jour_octets', 'princp_data_vol_jour_bts',\n",
      "       'princp_data_vol_soir_octets', 'princp_data_vol_soir_bts',\n",
      "       'princp_data_vol_nuit_octets', 'princp_data_vol_nuit_bts',\n",
      "       'princp_data_vol_total_octets', 'princp_data_vol_total_bts',\n",
      "       'princp_voix_dur_jour_minutes', 'princp_voix_dur_jour_bts',\n",
      "       'princp_voix_dur_soir_minutes', 'princp_voix_dur_soir_bts',\n",
      "       'princp_voix_dur_nuit_minutes', 'princp_voix_dur_nuit_bts',\n",
      "       'princp_voix_dur_total_minutes', 'princp_voix_dur_total_bts',\n",
      "       'princp_actv_total_bts', 'princp_actv_ville', 'princp_vol_actv',\n",
      "       'princp_vol_actv_unit', 'princp_vol_actv(unit)'],\n",
      "      dtype='object')\n"
     ]
    }
   ],
   "source": [
    "print(data2.columns)"
   ]
  },
  {
   "cell_type": "code",
   "execution_count": 162,
   "id": "0455585b",
   "metadata": {
    "scrolled": true
   },
   "outputs": [
    {
     "name": "stdout",
     "output_type": "stream",
     "text": [
      "Index(['mdn', 'imsi', 'idnt_contrat', 'idnt_client_crm',\n",
      "       'idnt_compte_facturation', 'idnt_profil', 'desc_profil',\n",
      "       'princp_data_vol_jour_octets', 'princp_data_vol_jour_bts',\n",
      "       'princp_data_vol_soir_octets', 'princp_data_vol_soir_bts',\n",
      "       'princp_data_vol_nuit_octets', 'princp_data_vol_nuit_bts',\n",
      "       'princp_data_vol_total_octets', 'princp_data_vol_total_bts',\n",
      "       'princp_voix_dur_jour_minutes', 'princp_voix_dur_jour_bts',\n",
      "       'princp_voix_dur_soir_minutes', 'princp_voix_dur_soir_bts',\n",
      "       'princp_voix_dur_nuit_minutes', 'princp_voix_dur_nuit_bts',\n",
      "       'princp_voix_dur_total_minutes', 'princp_voix_dur_total_bts',\n",
      "       'princp_actv_total_bts', 'princp_actv_ville', 'princp_vol_actv',\n",
      "       'princp_vol_actv_unit', 'princp_vol_actv(unit)'],\n",
      "      dtype='object')\n"
     ]
    }
   ],
   "source": [
    "\n",
    "print(data2.columns)"
   ]
  },
  {
   "cell_type": "code",
   "execution_count": 163,
   "id": "8d6a1c1a",
   "metadata": {},
   "outputs": [
    {
     "name": "stdout",
     "output_type": "stream",
     "text": [
      "0          19.786493471103213 (bytes)\n",
      "1          16.820785703133566 (bytes)\n",
      "2        0.9360933591703348 (minutes)\n",
      "3        0.6418538861723947 (minutes)\n",
      "4          22.386278117639744 (bytes)\n",
      "                     ...             \n",
      "99995    0.7419373447293773 (minutes)\n",
      "99996    0.3364722366212129 (minutes)\n",
      "99997    3.4505165064363568 (minutes)\n",
      "99998      17.802807793773983 (bytes)\n",
      "99999       18.44912081385006 (bytes)\n",
      "Name: princp_vol_actv(unit), Length: 100000, dtype: object\n"
     ]
    }
   ],
   "source": [
    " print(data2['princp_vol_actv(unit)'])"
   ]
  },
  {
   "cell_type": "code",
   "execution_count": 165,
   "id": "913306a8",
   "metadata": {},
   "outputs": [
    {
     "name": "stdout",
     "output_type": "stream",
     "text": [
      "Index(['mdn', 'imsi', 'idnt_contrat', 'idnt_client_crm',\n",
      "       'idnt_compte_facturation', 'idnt_profil', 'desc_profil',\n",
      "       'princp_data_vol_jour_octets', 'princp_data_vol_jour_bts',\n",
      "       'princp_data_vol_soir_octets', 'princp_data_vol_soir_bts',\n",
      "       'princp_data_vol_nuit_octets', 'princp_data_vol_nuit_bts',\n",
      "       'princp_data_vol_total_octets', 'princp_data_vol_total_bts',\n",
      "       'princp_voix_dur_jour_minutes', 'princp_voix_dur_jour_bts',\n",
      "       'princp_voix_dur_soir_minutes', 'princp_voix_dur_soir_bts',\n",
      "       'princp_voix_dur_nuit_minutes', 'princp_voix_dur_nuit_bts',\n",
      "       'princp_voix_dur_total_minutes', 'princp_voix_dur_total_bts',\n",
      "       'princp_actv_total_bts', 'princp_actv_ville', 'princp_vol_actv',\n",
      "       'princp_vol_actv_unit', 'princp_vol_actv(unit)'],\n",
      "      dtype='object')\n"
     ]
    }
   ],
   "source": [
    "print(data2.columns)"
   ]
  },
  {
   "cell_type": "code",
   "execution_count": 166,
   "id": "e26027d0",
   "metadata": {},
   "outputs": [
    {
     "name": "stdout",
     "output_type": "stream",
     "text": [
      "Voice overall:\n",
      "                                    mdn                              imsi  \\\n",
      "2      0adf7cb1e06a2572a658ef4b5d9b0861  e35e6bb76db99e2c3ced86cf8c7fd291   \n",
      "3      24316ae30425c7c0e29d904b291361c6  acdeb52eafb753f9f41774d47ae79fe9   \n",
      "9      645e7e2ef1d592aa12d7fd60cfd39593  d07f8cb366b63d1ca63e07364169c266   \n",
      "12     ed3c2efd5f89dfd20486b68da9a85bbf  9cde0ea853f2d31c7529f8b24f37cb7b   \n",
      "15     21eb1fcc8ff94fc33d28e7a894fa8b94  54cad2cfeba5cdbcabeab939c887df62   \n",
      "...                                 ...                               ...   \n",
      "99988  b6d775143352379707ebbf6685ed5b6e  a807ab8933867e509ff300829ea40f21   \n",
      "99990  36908e4212e24b6614b61ef6b2e59720  d49da35181cde2def9e0651a23b93f8e   \n",
      "99995  912b4be4bc954d5abfb07ff8731fb4f8  3e04b6130a1e7f912ace1401c8fd9c7b   \n",
      "99996  ca6e9d9a4151a4b7d8ac99931589ace5  064754a6858c28f9d375b3848fed5d02   \n",
      "99997  ec3f8165a9cd6b6e1dba6735ed41bec0  64d382af09dc3f6a0e17b6b9a3a5ae14   \n",
      "\n",
      "                           idnt_contrat                   idnt_client_crm  \\\n",
      "2      6d926a6b57b6ea793173323d50008b6d  f198a2ee467012e0366014da12557af9   \n",
      "3      27805c2ca82f606dc6cecc42ebb28e63  078c3bda9e5a8201c8f536acad01633b   \n",
      "9      329feb885c38f718195264bbd063dc83  61c755c4df266c44f6ac3ca8fe110056   \n",
      "12     498975291a9e3a200e7c034dc3347c87  6b07d8039c2499f7adef79be688b6249   \n",
      "15     44159e7f585aa5972e012e1c0bcd358c  171693dc27a2af89f862d4c85c1bd2cd   \n",
      "...                                 ...                               ...   \n",
      "99988  ccdc5500b971a0f8edda1f0e7dd3b59c  68862b3d2a2597c32e83ce348733b7ac   \n",
      "99990  cb7374761674fa2782246eb29b2426ac  1c4ccbb779bc5816b8c46abce03a89ce   \n",
      "99995  e4cb30209cd9fb0f75c88cc40e7aeee2  3000423a505e34d9062da576a1310c0e   \n",
      "99996  43a2633bd6d8b51a4d21b14923dd07b6  29cc84edb530a71a17be9b34120226e1   \n",
      "99997  bf98875e4ac121be8cd3bf4b08b5959e  98efd16c2aca33eb3454827d32a29aa5   \n",
      "\n",
      "                idnt_compte_facturation                       idnt_profil  \\\n",
      "2      e7d49ee7e0bd2267e4e5bdcb1452ccf4  005e6278fb49751ef475a251adcde5c4   \n",
      "3      fedb1808c2895c6159d68610f6a41611  5ea6242e1428266e5b4a2d4ecd764388   \n",
      "9      a6f3c7653ad5a937e48c82d28c68efb2  5ea6242e1428266e5b4a2d4ecd764388   \n",
      "12     aac54e27dee2f9ccbf6430bb83d32448  5ea6242e1428266e5b4a2d4ecd764388   \n",
      "15     42f76b44aa57b104d97cdc8266b28b2c  5ea6242e1428266e5b4a2d4ecd764388   \n",
      "...                                 ...                               ...   \n",
      "99988  5c96ae5df3c2795dcd64c8f6db069fb2  d7ab111a25ac005deb7babd8b32d06e4   \n",
      "99990  9ca23ba84dbb6ad7070a0c4ed9acd3fc  5ea6242e1428266e5b4a2d4ecd764388   \n",
      "99995  34bd6ee21f5332d3420ca8fefa40700a  5ea6242e1428266e5b4a2d4ecd764388   \n",
      "99996  78a6f586887baaf29ace7e54ab8b5573  5ea6242e1428266e5b4a2d4ecd764388   \n",
      "99997  03ebecfc0ee15b9430f437077a09277e  48ab9392e7ce14d2b2f03b40da2564c4   \n",
      "\n",
      "                         desc_profil  princp_data_vol_jour_octets  \\\n",
      "2                             TicTac                     3.045920   \n",
      "3                          TicTac 4G                     0.000000   \n",
      "9                          TicTac 4G                     2.905239   \n",
      "12                         TicTac 4G                     2.930362   \n",
      "15                         TicTac 4G                     2.895775   \n",
      "...                              ...                          ...   \n",
      "99988  Offre migration voix gratuite                     2.777896   \n",
      "99990                      TicTac 4G                     0.000000   \n",
      "99995                      TicTac 4G                     2.932055   \n",
      "99996                      TicTac 4G                     2.989013   \n",
      "99997   Forfait Illimité inwi 4H+1Go                     2.957250   \n",
      "\n",
      "      princp_data_vol_jour_bts  princp_data_vol_soir_octets  ...  \\\n",
      "2                     OAB-1004                     2.882404  ...   \n",
      "3              * Key not found                     2.957259  ...   \n",
      "9                     BAH-1011                     2.585031  ...   \n",
      "12                    CAS-8028                     3.011765  ...   \n",
      "15                    CAS-1147                     2.962664  ...   \n",
      "...                        ...                          ...  ...   \n",
      "99988                 MOH-1022                     2.973053  ...   \n",
      "99990          * Key not found                     0.000000  ...   \n",
      "99995                 CAS-1369                     3.025220  ...   \n",
      "99996                 CAS-1869                     2.985273  ...   \n",
      "99997                 BER-1023                     0.000000  ...   \n",
      "\n",
      "      princp_voix_dur_soir_bts  princp_voix_dur_nuit_minutes  \\\n",
      "2                     OAB-1004                           0.0   \n",
      "3                     MOH-1054                           0.0   \n",
      "9                     BAH-1011                           0.0   \n",
      "12                    CAS-1278                           0.0   \n",
      "15                    CAS-1510                           0.0   \n",
      "...                        ...                           ...   \n",
      "99988                 MOH-1113                           0.0   \n",
      "99990          * Key not found                           0.0   \n",
      "99995                 CAS-1369                           0.0   \n",
      "99996                 CAS-1466                           0.0   \n",
      "99997                 BER-1023                           0.0   \n",
      "\n",
      "      princp_voix_dur_nuit_bts  princp_voix_dur_total_minutes  \\\n",
      "2              * Key not found                       0.660672   \n",
      "3              * Key not found                       0.495826   \n",
      "9              * Key not found                       1.093029   \n",
      "12             * Key not found                       0.625136   \n",
      "15             * Key not found                       0.990490   \n",
      "...                        ...                            ...   \n",
      "99988          * Key not found                       0.490445   \n",
      "99990          * Key not found                       0.130819   \n",
      "99995          * Key not found                       0.554998   \n",
      "99996          * Key not found                       0.290033   \n",
      "99997          * Key not found                       1.493020   \n",
      "\n",
      "      princp_voix_dur_total_bts  princp_actv_total_bts princp_actv_ville  \\\n",
      "2                      OAB-1004               OAB-1004       LAGHNIMYINE   \n",
      "3                      MOH-1054               MOH-1054       BNI YAKHLEF   \n",
      "9                      BAH-1011               BAH-1011         EL BOROUJ   \n",
      "12                     CAS-1278               CAS-1278        CASABLANCA   \n",
      "15                     CAS-1271               CAS-1271        CASABLANCA   \n",
      "...                         ...                    ...               ...   \n",
      "99988                  MOH-1022               MOH-1022        MOHAMMEDIA   \n",
      "99990                  JAD-1044               JAD-1044         EL JADIDA   \n",
      "99995                  CAS-1369               CAS-1369        CASABLANCA   \n",
      "99996                  CAS-1466               CAS-1466        CASABLANCA   \n",
      "99997                  BER-1023               BER-1023         BERRECHID   \n",
      "\n",
      "       princp_vol_actv princp_vol_actv_unit          princp_vol_actv(unit)  \n",
      "2             0.936093              minutes   0.9360933591703348 (minutes)  \n",
      "3             0.641854              minutes   0.6418538861723947 (minutes)  \n",
      "9             1.983298              minutes   1.9832976811269338 (minutes)  \n",
      "12            0.868500              minutes   0.8685000680378065 (minutes)  \n",
      "15            1.692553              minutes    1.692552819144607 (minutes)  \n",
      "...                ...                  ...                            ...  \n",
      "99988         0.633043              minutes   0.6330432564902398 (minutes)  \n",
      "99990         0.139762              minutes  0.13976194237515863 (minutes)  \n",
      "99995         0.741937              minutes   0.7419373447293773 (minutes)  \n",
      "99996         0.336472              minutes   0.3364722366212129 (minutes)  \n",
      "99997         3.450517              minutes   3.4505165064363568 (minutes)  \n",
      "\n",
      "[34120 rows x 28 columns]\n",
      "Data overall:\n",
      "                                    mdn                              imsi  \\\n",
      "0      479e5ba06010b11c6618fff004e01a99  7f723cf242e408c9ae33705362d3229d   \n",
      "1      8dcd4c612b90296c577a7bce1cd475fd  03e5f7c2355fba57bfc89180ea0fb096   \n",
      "4      d588b29003e6bd796ca86dde42331d3a  4fa312a2473c3eb83ac6ff8ac02a5ba8   \n",
      "5      dd93b48f264d8472e8602649e6534c73  2666ff3f8da2c88c8eb7969ee9138aa1   \n",
      "6      5d3609aff922e5b8b7dbdc4675656bd5  ab387eb5e4cbd8ee5b4569370fb25dfc   \n",
      "...                                 ...                               ...   \n",
      "99992  a9940815b2ec2840e8b7001c22732e0b  91c23a47513ff99628717bed2b5e17be   \n",
      "99993  1b68cbf01711407bd659f60ffc8ca3df  30fd6c384f7c4fb1921ee9b783ded822   \n",
      "99994  6ef4bb9225d0ac9df3314ad356a0d4fa  98fccb3a7b906b34eb68d3c8185f8308   \n",
      "99998  aee0be79133a8cb356e873111adb705a  215f7cb969ef8fa4669cca7050b0b84f   \n",
      "99999  12a45628aee16fa9a46b5f4fc197a9ba  0b01cdf8686edd81f888a07104c10013   \n",
      "\n",
      "                                            idnt_contrat  \\\n",
      "0                       510bcb0cebfdaf7a6b886aeea65dc890   \n",
      "1                       b076d3494b24ca7ab2aa0d53af8823dc   \n",
      "4                       69d57941df21c0e5b29a38623c672edc   \n",
      "5                       a44ec57a446aeb7c51f1f53d5bf7dbfe   \n",
      "6      793ee0317285774fb6cfcb27f1b937b12c656f630f337f...   \n",
      "...                                                  ...   \n",
      "99992                   ae921484834f69a8b433af1f480e0f97   \n",
      "99993                   2736868dc903c34bdb75e6658722ff93   \n",
      "99994                   11dfd64912f8a4dc331a4add981ad64d   \n",
      "99998                   8a0a0939338f2e8e4b899d9e83e850eb   \n",
      "99999                   797c90f3a9640201bc5f84ee61146dff   \n",
      "\n",
      "                                         idnt_client_crm  \\\n",
      "0                       2c1d4c8dc3926c2f36e60b51f39dd41d   \n",
      "1                       b7f6cee4d32e5d7408a8d55cfdb27b08   \n",
      "4                       dd07082998c00a3bd6b0f907e490fa05   \n",
      "5                       57d1fc944170775816e08864787a489f   \n",
      "6      f3044edc2e1bc3d0f5a208653e97e0f52c656f630f337f...   \n",
      "...                                                  ...   \n",
      "99992                   a5426f46c7a4238494336fe26da20602   \n",
      "99993                   bba8ccbfad802843b1b5a85732c85959   \n",
      "99994                   0f70ed269ba6d4c76c3d60cd62a5b1cb   \n",
      "99998                   18a25f21e915cc0eaf86f70b20fb0828   \n",
      "99999                   3f8ab2cab6be74e74830eabeab4a6f9f   \n",
      "\n",
      "                                 idnt_compte_facturation  \\\n",
      "0                       5a446deabe79d6966125b528b16afa97   \n",
      "1                       f3e843f0a243905b19b12d91afb1a81c   \n",
      "4                       90a0acd42594912f948192d04af6f8e4   \n",
      "5                       ae46f47c7eafe14d5bd894f684f1cd4a   \n",
      "6      f3044edc2e1bc3d0f5a208653e97e0f52c656f630f337f...   \n",
      "...                                                  ...   \n",
      "99992                   6ebccc384b87a388d59920f8d68b57d2   \n",
      "99993                   428103657af93ff40e060c3fdc8c9a3b   \n",
      "99994                   7a8abdfab66ef42f7461edbee5549667   \n",
      "99998                   4a9e400c0e52a15c3fbe8ffa595ce917   \n",
      "99999                   a07dc5fa20065d3a2ee5e8919f61d412   \n",
      "\n",
      "                            idnt_profil          desc_profil  \\\n",
      "0      5ea6242e1428266e5b4a2d4ecd764388            TicTac 4G   \n",
      "1      5ea6242e1428266e5b4a2d4ecd764388            TicTac 4G   \n",
      "4      9d9266b961c13eb73c0c1193ad0c8047     Idar Duo 249 dhs   \n",
      "5      5ea6242e1428266e5b4a2d4ecd764388            TicTac 4G   \n",
      "6      4fd0719d90026a94b1ed4db46cc45aee  Forfait WIN 10H/50G   \n",
      "...                                 ...                  ...   \n",
      "99992  5ea6242e1428266e5b4a2d4ecd764388            TicTac 4G   \n",
      "99993  5ea6242e1428266e5b4a2d4ecd764388            TicTac 4G   \n",
      "99994  5ea6242e1428266e5b4a2d4ecd764388            TicTac 4G   \n",
      "99998  5ea6242e1428266e5b4a2d4ecd764388            TicTac 4G   \n",
      "99999  5ea6242e1428266e5b4a2d4ecd764388            TicTac 4G   \n",
      "\n",
      "       princp_data_vol_jour_octets princp_data_vol_jour_bts  \\\n",
      "0                         2.994963                 CAS-1877   \n",
      "1                         2.880366                 CAS-1306   \n",
      "4                         3.150284                 MOH-1018   \n",
      "5                         0.000000                 CAS-1876   \n",
      "6                         3.043707                 CAS-1678   \n",
      "...                            ...                      ...   \n",
      "99992                     0.000000          * Key not found   \n",
      "99993                     2.900794                 CAS-1123   \n",
      "99994                     0.000000                 MOH-1141   \n",
      "99998                     0.000000          * Key not found   \n",
      "99999                     2.928402                 BER-1017   \n",
      "\n",
      "       princp_data_vol_soir_octets  ... princp_voix_dur_soir_bts  \\\n",
      "0                         2.990700  ...    * Value not available   \n",
      "1                         0.000000  ...    * Value not available   \n",
      "4                         0.000000  ...    * Value not available   \n",
      "5                         2.093586  ...    * Value not available   \n",
      "6                         3.019087  ...    * Value not available   \n",
      "...                            ...  ...                      ...   \n",
      "99992                     2.565246  ...    * Value not available   \n",
      "99993                     3.015033  ...    * Value not available   \n",
      "99994                     0.000000  ...    * Value not available   \n",
      "99998                     0.000000  ...    * Value not available   \n",
      "99999                     2.415720  ...    * Value not available   \n",
      "\n",
      "       princp_voix_dur_nuit_minutes princp_voix_dur_nuit_bts  \\\n",
      "0                               NaN    * Value not available   \n",
      "1                               NaN    * Value not available   \n",
      "4                               NaN    * Value not available   \n",
      "5                               NaN    * Value not available   \n",
      "6                               NaN    * Value not available   \n",
      "...                             ...                      ...   \n",
      "99992                           NaN    * Value not available   \n",
      "99993                           NaN    * Value not available   \n",
      "99994                           NaN    * Value not available   \n",
      "99998                           NaN    * Value not available   \n",
      "99999                           NaN    * Value not available   \n",
      "\n",
      "       princp_voix_dur_total_minutes princp_voix_dur_total_bts  \\\n",
      "0                                NaN     * Value not available   \n",
      "1                                NaN     * Value not available   \n",
      "4                                NaN     * Value not available   \n",
      "5                                NaN     * Value not available   \n",
      "6                                NaN     * Value not available   \n",
      "...                              ...                       ...   \n",
      "99992                            NaN     * Value not available   \n",
      "99993                            NaN     * Value not available   \n",
      "99994                            NaN     * Value not available   \n",
      "99998                            NaN     * Value not available   \n",
      "99999                            NaN     * Value not available   \n",
      "\n",
      "       princp_actv_total_bts                princp_actv_ville  \\\n",
      "0                   CAS-1877                       CASABLANCA   \n",
      "1                   CAS-1306                       CASABLANCA   \n",
      "4                   MOH-1018                       MOHAMMEDIA   \n",
      "5                   CAS-1876                       CASABLANCA   \n",
      "6                   CAS-1243                       CASABLANCA   \n",
      "...                      ...                              ...   \n",
      "99992               JAD-1010                  MOULAY ABDALLAH   \n",
      "99993               CAS-1123                       CASABLANCA   \n",
      "99994               MOH-1141                      BNI YAKHLEF   \n",
      "99998               CHT-1002                    TNINE CHTOUKA   \n",
      "99999               BER-1017  Ext_Urb_Grand Casablanca-Settat   \n",
      "\n",
      "       princp_vol_actv princp_vol_actv_unit       princp_vol_actv(unit)  \n",
      "0            19.786493                bytes  19.786493471103213 (bytes)  \n",
      "1            16.820786                bytes  16.820785703133566 (bytes)  \n",
      "4            22.386278                bytes  22.386278117639744 (bytes)  \n",
      "5             7.113956                bytes   7.113956109566034 (bytes)  \n",
      "6            20.039328                bytes  20.039328275356546 (bytes)  \n",
      "...                ...                  ...                         ...  \n",
      "99992        12.003859                bytes  12.003858537396994 (bytes)  \n",
      "99993        19.494730                bytes   19.49472997222119 (bytes)  \n",
      "99994         0.000000                bytes                 0.0 (bytes)  \n",
      "99998        17.802808                bytes  17.802807793773983 (bytes)  \n",
      "99999        18.449121                bytes   18.44912081385006 (bytes)  \n",
      "\n",
      "[65880 rows x 28 columns]\n"
     ]
    }
   ],
   "source": [
    "voice_overall = data2.loc[data2['princp_vol_actv_unit'] == 'minutes']\n",
    "data_overall = data2.loc[data2['princp_vol_actv_unit'] == 'bytes']\n",
    "print(\"Voice overall:\")\n",
    "print(voice_overall)\n",
    "print(\"Data overall:\")\n",
    "print(data_overall)"
   ]
  },
  {
   "cell_type": "code",
   "execution_count": 169,
   "id": "bed3367c",
   "metadata": {},
   "outputs": [
    {
     "ename": "KeyError",
     "evalue": "\"['princp_vol_actv_unit', 'princp_vol_actv'] not found in axis\"",
     "output_type": "error",
     "traceback": [
      "\u001b[1;31m---------------------------------------------------------------------------\u001b[0m",
      "\u001b[1;31mKeyError\u001b[0m                                  Traceback (most recent call last)",
      "Cell \u001b[1;32mIn[169], line 2\u001b[0m\n\u001b[0;32m      1\u001b[0m columns_to_drop1\u001b[38;5;241m=\u001b[39m[\u001b[38;5;124m\"\u001b[39m\u001b[38;5;124mprincp_vol_actv_unit\u001b[39m\u001b[38;5;124m\"\u001b[39m,\u001b[38;5;124m\"\u001b[39m\u001b[38;5;124mprincp_vol_actv\u001b[39m\u001b[38;5;124m\"\u001b[39m]\n\u001b[1;32m----> 2\u001b[0m data2\u001b[38;5;241m=\u001b[39m \u001b[43mdata2\u001b[49m\u001b[38;5;241;43m.\u001b[39;49m\u001b[43mdrop\u001b[49m\u001b[43m(\u001b[49m\u001b[43mcolumns\u001b[49m\u001b[38;5;241;43m=\u001b[39;49m\u001b[43mcolumns_to_drop1\u001b[49m\u001b[43m)\u001b[49m\n\u001b[0;32m      3\u001b[0m \u001b[38;5;28mprint\u001b[39m(data2\u001b[38;5;241m.\u001b[39mcolumns)\n",
      "File \u001b[1;32m~\\anaconda3\\lib\\site-packages\\pandas\\util\\_decorators.py:331\u001b[0m, in \u001b[0;36mdeprecate_nonkeyword_arguments.<locals>.decorate.<locals>.wrapper\u001b[1;34m(*args, **kwargs)\u001b[0m\n\u001b[0;32m    325\u001b[0m \u001b[38;5;28;01mif\u001b[39;00m \u001b[38;5;28mlen\u001b[39m(args) \u001b[38;5;241m>\u001b[39m num_allow_args:\n\u001b[0;32m    326\u001b[0m     warnings\u001b[38;5;241m.\u001b[39mwarn(\n\u001b[0;32m    327\u001b[0m         msg\u001b[38;5;241m.\u001b[39mformat(arguments\u001b[38;5;241m=\u001b[39m_format_argument_list(allow_args)),\n\u001b[0;32m    328\u001b[0m         \u001b[38;5;167;01mFutureWarning\u001b[39;00m,\n\u001b[0;32m    329\u001b[0m         stacklevel\u001b[38;5;241m=\u001b[39mfind_stack_level(),\n\u001b[0;32m    330\u001b[0m     )\n\u001b[1;32m--> 331\u001b[0m \u001b[38;5;28;01mreturn\u001b[39;00m func(\u001b[38;5;241m*\u001b[39margs, \u001b[38;5;241m*\u001b[39m\u001b[38;5;241m*\u001b[39mkwargs)\n",
      "File \u001b[1;32m~\\anaconda3\\lib\\site-packages\\pandas\\core\\frame.py:5399\u001b[0m, in \u001b[0;36mDataFrame.drop\u001b[1;34m(self, labels, axis, index, columns, level, inplace, errors)\u001b[0m\n\u001b[0;32m   5251\u001b[0m \u001b[38;5;129m@deprecate_nonkeyword_arguments\u001b[39m(version\u001b[38;5;241m=\u001b[39m\u001b[38;5;28;01mNone\u001b[39;00m, allowed_args\u001b[38;5;241m=\u001b[39m[\u001b[38;5;124m\"\u001b[39m\u001b[38;5;124mself\u001b[39m\u001b[38;5;124m\"\u001b[39m, \u001b[38;5;124m\"\u001b[39m\u001b[38;5;124mlabels\u001b[39m\u001b[38;5;124m\"\u001b[39m])\n\u001b[0;32m   5252\u001b[0m \u001b[38;5;28;01mdef\u001b[39;00m \u001b[38;5;21mdrop\u001b[39m(  \u001b[38;5;66;03m# type: ignore[override]\u001b[39;00m\n\u001b[0;32m   5253\u001b[0m     \u001b[38;5;28mself\u001b[39m,\n\u001b[1;32m   (...)\u001b[0m\n\u001b[0;32m   5260\u001b[0m     errors: IgnoreRaise \u001b[38;5;241m=\u001b[39m \u001b[38;5;124m\"\u001b[39m\u001b[38;5;124mraise\u001b[39m\u001b[38;5;124m\"\u001b[39m,\n\u001b[0;32m   5261\u001b[0m ) \u001b[38;5;241m-\u001b[39m\u001b[38;5;241m>\u001b[39m DataFrame \u001b[38;5;241m|\u001b[39m \u001b[38;5;28;01mNone\u001b[39;00m:\n\u001b[0;32m   5262\u001b[0m     \u001b[38;5;124;03m\"\"\"\u001b[39;00m\n\u001b[0;32m   5263\u001b[0m \u001b[38;5;124;03m    Drop specified labels from rows or columns.\u001b[39;00m\n\u001b[0;32m   5264\u001b[0m \n\u001b[1;32m   (...)\u001b[0m\n\u001b[0;32m   5397\u001b[0m \u001b[38;5;124;03m            weight  1.0     0.8\u001b[39;00m\n\u001b[0;32m   5398\u001b[0m \u001b[38;5;124;03m    \"\"\"\u001b[39;00m\n\u001b[1;32m-> 5399\u001b[0m     \u001b[38;5;28;01mreturn\u001b[39;00m \u001b[38;5;28;43msuper\u001b[39;49m\u001b[43m(\u001b[49m\u001b[43m)\u001b[49m\u001b[38;5;241;43m.\u001b[39;49m\u001b[43mdrop\u001b[49m\u001b[43m(\u001b[49m\n\u001b[0;32m   5400\u001b[0m \u001b[43m        \u001b[49m\u001b[43mlabels\u001b[49m\u001b[38;5;241;43m=\u001b[39;49m\u001b[43mlabels\u001b[49m\u001b[43m,\u001b[49m\n\u001b[0;32m   5401\u001b[0m \u001b[43m        \u001b[49m\u001b[43maxis\u001b[49m\u001b[38;5;241;43m=\u001b[39;49m\u001b[43maxis\u001b[49m\u001b[43m,\u001b[49m\n\u001b[0;32m   5402\u001b[0m \u001b[43m        \u001b[49m\u001b[43mindex\u001b[49m\u001b[38;5;241;43m=\u001b[39;49m\u001b[43mindex\u001b[49m\u001b[43m,\u001b[49m\n\u001b[0;32m   5403\u001b[0m \u001b[43m        \u001b[49m\u001b[43mcolumns\u001b[49m\u001b[38;5;241;43m=\u001b[39;49m\u001b[43mcolumns\u001b[49m\u001b[43m,\u001b[49m\n\u001b[0;32m   5404\u001b[0m \u001b[43m        \u001b[49m\u001b[43mlevel\u001b[49m\u001b[38;5;241;43m=\u001b[39;49m\u001b[43mlevel\u001b[49m\u001b[43m,\u001b[49m\n\u001b[0;32m   5405\u001b[0m \u001b[43m        \u001b[49m\u001b[43minplace\u001b[49m\u001b[38;5;241;43m=\u001b[39;49m\u001b[43minplace\u001b[49m\u001b[43m,\u001b[49m\n\u001b[0;32m   5406\u001b[0m \u001b[43m        \u001b[49m\u001b[43merrors\u001b[49m\u001b[38;5;241;43m=\u001b[39;49m\u001b[43merrors\u001b[49m\u001b[43m,\u001b[49m\n\u001b[0;32m   5407\u001b[0m \u001b[43m    \u001b[49m\u001b[43m)\u001b[49m\n",
      "File \u001b[1;32m~\\anaconda3\\lib\\site-packages\\pandas\\util\\_decorators.py:331\u001b[0m, in \u001b[0;36mdeprecate_nonkeyword_arguments.<locals>.decorate.<locals>.wrapper\u001b[1;34m(*args, **kwargs)\u001b[0m\n\u001b[0;32m    325\u001b[0m \u001b[38;5;28;01mif\u001b[39;00m \u001b[38;5;28mlen\u001b[39m(args) \u001b[38;5;241m>\u001b[39m num_allow_args:\n\u001b[0;32m    326\u001b[0m     warnings\u001b[38;5;241m.\u001b[39mwarn(\n\u001b[0;32m    327\u001b[0m         msg\u001b[38;5;241m.\u001b[39mformat(arguments\u001b[38;5;241m=\u001b[39m_format_argument_list(allow_args)),\n\u001b[0;32m    328\u001b[0m         \u001b[38;5;167;01mFutureWarning\u001b[39;00m,\n\u001b[0;32m    329\u001b[0m         stacklevel\u001b[38;5;241m=\u001b[39mfind_stack_level(),\n\u001b[0;32m    330\u001b[0m     )\n\u001b[1;32m--> 331\u001b[0m \u001b[38;5;28;01mreturn\u001b[39;00m func(\u001b[38;5;241m*\u001b[39margs, \u001b[38;5;241m*\u001b[39m\u001b[38;5;241m*\u001b[39mkwargs)\n",
      "File \u001b[1;32m~\\anaconda3\\lib\\site-packages\\pandas\\core\\generic.py:4505\u001b[0m, in \u001b[0;36mNDFrame.drop\u001b[1;34m(self, labels, axis, index, columns, level, inplace, errors)\u001b[0m\n\u001b[0;32m   4503\u001b[0m \u001b[38;5;28;01mfor\u001b[39;00m axis, labels \u001b[38;5;129;01min\u001b[39;00m axes\u001b[38;5;241m.\u001b[39mitems():\n\u001b[0;32m   4504\u001b[0m     \u001b[38;5;28;01mif\u001b[39;00m labels \u001b[38;5;129;01mis\u001b[39;00m \u001b[38;5;129;01mnot\u001b[39;00m \u001b[38;5;28;01mNone\u001b[39;00m:\n\u001b[1;32m-> 4505\u001b[0m         obj \u001b[38;5;241m=\u001b[39m \u001b[43mobj\u001b[49m\u001b[38;5;241;43m.\u001b[39;49m\u001b[43m_drop_axis\u001b[49m\u001b[43m(\u001b[49m\u001b[43mlabels\u001b[49m\u001b[43m,\u001b[49m\u001b[43m \u001b[49m\u001b[43maxis\u001b[49m\u001b[43m,\u001b[49m\u001b[43m \u001b[49m\u001b[43mlevel\u001b[49m\u001b[38;5;241;43m=\u001b[39;49m\u001b[43mlevel\u001b[49m\u001b[43m,\u001b[49m\u001b[43m \u001b[49m\u001b[43merrors\u001b[49m\u001b[38;5;241;43m=\u001b[39;49m\u001b[43merrors\u001b[49m\u001b[43m)\u001b[49m\n\u001b[0;32m   4507\u001b[0m \u001b[38;5;28;01mif\u001b[39;00m inplace:\n\u001b[0;32m   4508\u001b[0m     \u001b[38;5;28mself\u001b[39m\u001b[38;5;241m.\u001b[39m_update_inplace(obj)\n",
      "File \u001b[1;32m~\\anaconda3\\lib\\site-packages\\pandas\\core\\generic.py:4546\u001b[0m, in \u001b[0;36mNDFrame._drop_axis\u001b[1;34m(self, labels, axis, level, errors, only_slice)\u001b[0m\n\u001b[0;32m   4544\u001b[0m         new_axis \u001b[38;5;241m=\u001b[39m axis\u001b[38;5;241m.\u001b[39mdrop(labels, level\u001b[38;5;241m=\u001b[39mlevel, errors\u001b[38;5;241m=\u001b[39merrors)\n\u001b[0;32m   4545\u001b[0m     \u001b[38;5;28;01melse\u001b[39;00m:\n\u001b[1;32m-> 4546\u001b[0m         new_axis \u001b[38;5;241m=\u001b[39m \u001b[43maxis\u001b[49m\u001b[38;5;241;43m.\u001b[39;49m\u001b[43mdrop\u001b[49m\u001b[43m(\u001b[49m\u001b[43mlabels\u001b[49m\u001b[43m,\u001b[49m\u001b[43m \u001b[49m\u001b[43merrors\u001b[49m\u001b[38;5;241;43m=\u001b[39;49m\u001b[43merrors\u001b[49m\u001b[43m)\u001b[49m\n\u001b[0;32m   4547\u001b[0m     indexer \u001b[38;5;241m=\u001b[39m axis\u001b[38;5;241m.\u001b[39mget_indexer(new_axis)\n\u001b[0;32m   4549\u001b[0m \u001b[38;5;66;03m# Case for non-unique axis\u001b[39;00m\n\u001b[0;32m   4550\u001b[0m \u001b[38;5;28;01melse\u001b[39;00m:\n",
      "File \u001b[1;32m~\\anaconda3\\lib\\site-packages\\pandas\\core\\indexes\\base.py:6934\u001b[0m, in \u001b[0;36mIndex.drop\u001b[1;34m(self, labels, errors)\u001b[0m\n\u001b[0;32m   6932\u001b[0m \u001b[38;5;28;01mif\u001b[39;00m mask\u001b[38;5;241m.\u001b[39many():\n\u001b[0;32m   6933\u001b[0m     \u001b[38;5;28;01mif\u001b[39;00m errors \u001b[38;5;241m!=\u001b[39m \u001b[38;5;124m\"\u001b[39m\u001b[38;5;124mignore\u001b[39m\u001b[38;5;124m\"\u001b[39m:\n\u001b[1;32m-> 6934\u001b[0m         \u001b[38;5;28;01mraise\u001b[39;00m \u001b[38;5;167;01mKeyError\u001b[39;00m(\u001b[38;5;124mf\u001b[39m\u001b[38;5;124m\"\u001b[39m\u001b[38;5;132;01m{\u001b[39;00m\u001b[38;5;28mlist\u001b[39m(labels[mask])\u001b[38;5;132;01m}\u001b[39;00m\u001b[38;5;124m not found in axis\u001b[39m\u001b[38;5;124m\"\u001b[39m)\n\u001b[0;32m   6935\u001b[0m     indexer \u001b[38;5;241m=\u001b[39m indexer[\u001b[38;5;241m~\u001b[39mmask]\n\u001b[0;32m   6936\u001b[0m \u001b[38;5;28;01mreturn\u001b[39;00m \u001b[38;5;28mself\u001b[39m\u001b[38;5;241m.\u001b[39mdelete(indexer)\n",
      "\u001b[1;31mKeyError\u001b[0m: \"['princp_vol_actv_unit', 'princp_vol_actv'] not found in axis\""
     ]
    }
   ],
   "source": [
    "columns_to_drop1=[\"princp_vol_actv_unit\",\"princp_vol_actv\"]\n",
    "data2= data2.drop(columns=columns_to_drop1)\n",
    "print(data2.columns)"
   ]
  },
  {
   "cell_type": "code",
   "execution_count": 170,
   "id": "42167b68",
   "metadata": {},
   "outputs": [],
   "source": [
    "columns_to_drop1=[\"princp_vol_actv_unit\",\"princp_vol_actv\"]\n",
    "data_overall= data_overall.drop(columns=columns_to_drop1)\n",
    "voice_overall=voice_overall.drop(columns=columns_to_drop1)"
   ]
  },
  {
   "cell_type": "code",
   "execution_count": 171,
   "id": "34d7fecc",
   "metadata": {},
   "outputs": [],
   "source": [
    "data_overall.to_csv('C:/Users/hp/Desktop/prj_pfe_inwi/data_overall.csv', index=False)\n",
    "voice_overall.to_csv('C:/Users/hp/Desktop/prj_pfe_inwi/voice_overall.csv', index=False)"
   ]
  },
  {
   "cell_type": "code",
   "execution_count": 172,
   "id": "723ad48f",
   "metadata": {},
   "outputs": [],
   "source": [
    "data2.to_csv('C:/Users/hp/Desktop/prj_pfe_inwi/overall.csv', index=False)"
   ]
  },
  {
   "cell_type": "code",
   "execution_count": null,
   "id": "9199da42",
   "metadata": {},
   "outputs": [],
   "source": []
  }
 ],
 "metadata": {
  "kernelspec": {
   "display_name": "Python 3 (ipykernel)",
   "language": "python",
   "name": "python3"
  },
  "language_info": {
   "codemirror_mode": {
    "name": "ipython",
    "version": 3
   },
   "file_extension": ".py",
   "mimetype": "text/x-python",
   "name": "python",
   "nbconvert_exporter": "python",
   "pygments_lexer": "ipython3",
   "version": "3.10.9"
  }
 },
 "nbformat": 4,
 "nbformat_minor": 5
}
