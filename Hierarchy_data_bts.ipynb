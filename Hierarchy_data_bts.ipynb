{
 "cells": [
  {
   "cell_type": "code",
   "execution_count": 1,
   "id": "b66b91a7",
   "metadata": {},
   "outputs": [],
   "source": [
    "import pandas as pd\n",
    "import numpy as np\n",
    "\n",
    "X = pd.read_csv('C:/Users/amous/Downloads/s.csv')\n",
    "data = X.drop('contract_id', axis=1)  # Features (phone number attributes)\n"
   ]
  },
  {
   "cell_type": "code",
   "execution_count": 2,
   "id": "0fb04a2c",
   "metadata": {},
   "outputs": [
    {
     "data": {
      "text/plain": [
       "count             41742\n",
       "unique            10870\n",
       "top       LBI-1044_U-93\n",
       "freq                 73\n",
       "Name: full_secteur, dtype: object"
      ]
     },
     "execution_count": 2,
     "metadata": {},
     "output_type": "execute_result"
    }
   ],
   "source": [
    "X['full_secteur'].describe()"
   ]
  },
  {
   "cell_type": "code",
   "execution_count": 3,
   "id": "e03cd985",
   "metadata": {},
   "outputs": [
    {
     "name": "stdout",
     "output_type": "stream",
     "text": [
      "dn\n",
      "profile_id\n",
      "subprofile\n",
      "produit\n",
      "full_vol\n",
      "full_secteur\n",
      "full_city\n"
     ]
    }
   ],
   "source": [
    "for i in data.columns:\n",
    "    print(i)"
   ]
  },
  {
   "cell_type": "code",
   "execution_count": null,
   "id": "e5ff22f5",
   "metadata": {},
   "outputs": [],
   "source": []
  },
  {
   "cell_type": "code",
   "execution_count": null,
   "id": "b6744505",
   "metadata": {},
   "outputs": [
    {
     "name": "stdout",
     "output_type": "stream",
     "text": [
      "step 1 load done \n",
      "step2 categorical col done \n",
      "next step after encoding cate col\n"
     ]
    }
   ],
   "source": [
    "import pandas as pd\n",
    "import numpy as np\n",
    "from sklearn.preprocessing import LabelEncoder\n",
    "from scipy.cluster.hierarchy import dendrogram, linkage\n",
    "from sklearn.cluster import AgglomerativeClustering\n",
    "import matplotlib.pyplot as plt\n",
    "\n",
    "# Step 1: Load the Data\n",
    "# data = pd.read_csv('C:/Users/amous/Downloads/voice_bts.csv')\n",
    "\n",
    "print(\"step 1 load done \")\n",
    "\n",
    "\n",
    "# Step 3: Prepare Data for Clustering\n",
    "categorical_cols = data.select_dtypes(include=['object']).columns\n",
    "\n",
    "print(\"step2 categorical col done \")\n",
    "# Convert categorical columns to numeric using LabelEncoder\n",
    "label_encoder = LabelEncoder()\n",
    "for column in categorical_cols:\n",
    "    data[column] = label_encoder.fit_transform(data[column])\n",
    "\n",
    "print(\"next step after encoding cate col\")\n",
    "# Handle missing values, if any\n",
    "# data = data.replace('* Value not available', np.nan)\n",
    "\n",
    "# Step 4: Apply Hierarchical Clustering\n",
    "# Exclude 'dn' column from clustering\n",
    "columns_for_clustering = [col for col in data.columns if col != 'dn']\n",
    "X = data[columns_for_clustering].values\n",
    "\n",
    "# Compute the linkage matrix\n",
    "linkage_matrix = linkage(X, method='ward')\n",
    "print(\"linkage matrix\")\n",
    "# Perform clustering\n",
    "n_clusters = 3  # Number of clusters\n",
    "hierarchical = AgglomerativeClustering(n_clusters=n_clusters, affinity='euclidean', linkage='ward')\n",
    "hierarchical.fit(X)\n",
    "print(\"application of hierarchical algo\")\n",
    "# Step 5: Visualize the Dendrogram\n",
    "plt.figure(figsize=(10, 6))\n",
    "dendrogram(linkage_matrix)\n",
    "plt.title('Dendrogram')\n",
    "plt.xlabel('Samples')\n",
    "plt.ylabel('Distance')\n",
    "plt.show()\n",
    "print()\n",
    "# Step 6: Get Cluster Labels\n",
    "labels = hierarchical.labels_\n"
   ]
  },
  {
   "cell_type": "code",
   "execution_count": null,
   "id": "eed08821",
   "metadata": {},
   "outputs": [],
   "source": [
    "import pandas as pd\n",
    "import numpy as np\n",
    "from sklearn.preprocessing import LabelEncoder\n",
    "from sklearn.decomposition import PCA\n",
    "from scipy.cluster.hierarchy import dendrogram, linkage\n",
    "from sklearn.cluster import AgglomerativeClustering\n",
    "import matplotlib.pyplot as plt\n",
    "\n",
    "# Step 1: Load the Data\n",
    "data = pd.read_csv('C:/Users/amous/Downloads/voice_bts.csv')\n",
    "\n",
    "# Step 2: Data Preprocessing\n",
    "# Handle any necessary data preprocessing steps here, such as handling missing values\n",
    "\n",
    "# Step 3: Prepare Data for Clustering\n",
    "categorical_cols = data.select_dtypes(include=['object']).columns\n",
    "\n",
    "# Convert categorical columns to numeric using LabelEncoder\n",
    "label_encoder = LabelEncoder()\n",
    "for column in categorical_cols:\n",
    "    data[column] = label_encoder.fit_transform(data[column])\n",
    "\n",
    "# Handle missing values, if any\n",
    "# data = data.replace('* Value not available', np.nan)\n",
    "\n",
    "# Exclude 'dn' column from clustering\n",
    "columns_for_clustering = [col for col in data.columns if (col != 'dn' || col!='contract_id')]\n",
    "X = data[columns_for_clustering].values\n",
    "\n",
    "# Perform Dimensionality Reduction using PCA\n",
    "pca = PCA(n_components=0.95)  # Retain 95% of the variance\n",
    "X_reduced = pca.fit_transform(X)\n",
    "\n",
    "# Compute the linkage matrix\n",
    "linkage_matrix = linkage(X_reduced, method='ward')\n",
    "\n",
    "# Step 4: Perform Clustering\n",
    "n_clusters = 3  # Number of clusters\n",
    "hierarchical = AgglomerativeClustering(n_clusters=n_clusters, affinity='euclidean', linkage='ward')\n",
    "labels = hierarchical.fit_predict(X_reduced)\n",
    "\n",
    "# Step 5: Visualize the Dendrogram\n",
    "plt.figure(figsize=(10, 6))\n",
    "dendrogram(linkage_matrix)\n",
    "plt.title('Dendrogram')\n",
    "plt.xlabel('Samples')\n",
    "plt.ylabel('Distance')\n",
    "plt.show()\n"
   ]
  },
  {
   "cell_type": "code",
   "execution_count": 1,
   "id": "561a3bdf",
   "metadata": {},
   "outputs": [],
   "source": [
    "import pandas as pd\n",
    "import numpy as np\n",
    "from sklearn.preprocessing import LabelEncoder\n",
    "from sklearn.decomposition import PCA\n",
    "from scipy.cluster.hierarchy import dendrogram, linkage\n",
    "from sklearn.cluster import AgglomerativeClustering\n",
    "import matplotlib.pyplot as plt\n",
    "\n",
    "# Step 1: Load the Data\n",
    "data = pd.read_csv('C:/Users/amous/Downloads/voice_bts.csv')\n",
    "\n",
    "# Step 2: Data Preprocessing\n",
    "# Handle any necessary data preprocessing steps here, such as handling missing values\n",
    "\n",
    "# Step 3: Prepare Data for Clustering\n",
    "categorical_cols = data.select_dtypes(include=['object']).columns\n",
    "\n",
    "# Convert categorical columns to numeric using LabelEncoder\n",
    "label_encoder = LabelEncoder()\n",
    "for column in categorical_cols:\n",
    "    data[column] = label_encoder.fit_transform(data[column])"
   ]
  },
  {
   "cell_type": "code",
   "execution_count": 3,
   "id": "c908d064",
   "metadata": {},
   "outputs": [],
   "source": [
    "# Exclude 'dn' column from clustering\n",
    "columns_for_clustering = [col for col in data.columns if (col != 'dn' or col!='contract_id')]\n",
    "X = data[columns_for_clustering].values\n",
    "\n",
    "# Perform Dimensionality Reduction using PCA\n",
    "pca = PCA(n_components=0.95)  # Retain 95% of the variance\n",
    "X_reduced = pca.fit_transform(X)"
   ]
  },
  {
   "cell_type": "code",
   "execution_count": 4,
   "id": "74ded424",
   "metadata": {},
   "outputs": [],
   "source": [
    "# Compute the linkage matrix\n",
    "linkage_matrix = linkage(X_reduced, method='ward')"
   ]
  },
  {
   "cell_type": "code",
   "execution_count": 5,
   "id": "4248c5af",
   "metadata": {},
   "outputs": [
    {
     "name": "stderr",
     "output_type": "stream",
     "text": [
      "C:\\Users\\amous\\anaconda3\\lib\\site-packages\\sklearn\\cluster\\_agglomerative.py:983: FutureWarning: Attribute `affinity` was deprecated in version 1.2 and will be removed in 1.4. Use `metric` instead\n",
      "  warnings.warn(\n"
     ]
    },
    {
     "data": {
      "image/png": "[encoded data removed]",
      "text/plain": [
       "<Figure size 1000x600 with 1 Axes>"
      ]
     },
     "metadata": {},
     "output_type": "display_data"
    }
   ],
   "source": [
    "# Step 4: Perform Clustering\n",
    "n_clusters = 3  # Number of clusters\n",
    "hierarchical = AgglomerativeClustering(n_clusters=n_clusters, affinity='euclidean', linkage='ward')\n",
    "labels = hierarchical.fit_predict(X_reduced)\n",
    "\n",
    "# Step 5: Visualize the Dendrogram\n",
    "plt.figure(figsize=(10, 6))\n",
    "dendrogram(linkage_matrix)\n",
    "plt.title('Dendrogram')\n",
    "plt.xlabel('Samples')\n",
    "plt.ylabel('Distance')\n",
    "plt.show()"
   ]
  },
  {
   "cell_type": "code",
   "execution_count": 6,
   "id": "aaa5a307",
   "metadata": {},
   "outputs": [
    {
     "name": "stdout",
     "output_type": "stream",
     "text": [
      "Silhouette Score: 0.8258235110430223\n"
     ]
    }
   ],
   "source": [
    "from sklearn.metrics import silhouette_score\n",
    "\n",
    "# Calculate the silhouette score\n",
    "silhouette_avg = silhouette_score(X_reduced, labels)\n",
    "print(f\"Silhouette Score: {silhouette_avg}\")"
   ]
  },
  {
   "cell_type": "code",
   "execution_count": 7,
   "id": "62d93c86",
   "metadata": {},
   "outputs": [
    {
     "name": "stderr",
     "output_type": "stream",
     "text": [
      "C:\\Users\\amous\\AppData\\Local\\Temp\\ipykernel_5672\\2995320250.py:21: MatplotlibDeprecationWarning: The get_cmap function was deprecated in Matplotlib 3.7 and will be removed two minor releases later. Use ``matplotlib.colormaps[name]`` or ``matplotlib.colormaps.get_cmap(obj)`` instead.\n",
      "  color = plt.cm.get_cmap(\"Spectral\")(float(i) / n_clusters)\n"
     ]
    },
    {
     "data": {
      "image/png": "[encoded data removed]",
      "text/plain": [
       "<Figure size 800x600 with 1 Axes>"
      ]
     },
     "metadata": {},
     "output_type": "display_data"
    }
   ],
   "source": [
    "import numpy as np\n",
    "import matplotlib.pyplot as plt\n",
    "from sklearn.metrics import silhouette_samples\n",
    "\n",
    "# Calculate the silhouette scores for each sample\n",
    "silhouette_values = silhouette_samples(X_reduced, labels)\n",
    "\n",
    "# Create a scatter plot of the silhouette scores\n",
    "fig, ax = plt.subplots(figsize=(8, 6))\n",
    "y_lower = 10\n",
    "for i in range(n_clusters):\n",
    "    # Aggregate the silhouette scores for samples in the current cluster\n",
    "    cluster_silhouette_values = silhouette_values[labels == i]\n",
    "    cluster_silhouette_values.sort()\n",
    "\n",
    "    # Calculate the size of the current cluster\n",
    "    cluster_size = cluster_silhouette_values.shape[0]\n",
    "    y_upper = y_lower + cluster_size\n",
    "\n",
    "    # Plot the silhouette scores for samples in the current cluster\n",
    "    color = plt.cm.get_cmap(\"Spectral\")(float(i) / n_clusters)\n",
    "    ax.fill_betweenx(np.arange(y_lower, y_upper),\n",
    "                     0, cluster_silhouette_values,\n",
    "                     facecolor=color, edgecolor=color, alpha=0.7)\n",
    "\n",
    "    # Label the silhouette plots with cluster numbers\n",
    "    ax.text(-0.05, y_lower + 0.5 * cluster_size, str(i))\n",
    "    \n",
    "    # Update the lower bound for the next cluster plot\n",
    "    y_lower = y_upper + 10\n",
    "\n",
    "# Set plot aesthetics\n",
    "ax.set_xlabel(\"Silhouette coefficient values\")\n",
    "ax.set_ylabel(\"Cluster label\")\n",
    "ax.axvline(x=silhouette_avg, color=\"red\", linestyle=\"--\")\n",
    "ax.set_yticks([])\n",
    "plt.title(\"Silhouette plot\")\n",
    "plt.show()\n"
   ]
  },
  {
   "cell_type": "code",
   "execution_count": null,
   "id": "73ae2a9d",
   "metadata": {},
   "outputs": [],
   "source": []
  }
 ],
 "metadata": {
  "kernelspec": {
   "display_name": "Python 3 (ipykernel)",
   "language": "python",
   "name": "python3"
  },
  "language_info": {
   "codemirror_mode": {
    "name": "ipython",
    "version": 3
   },
   "file_extension": ".py",
   "mimetype": "text/x-python",
   "name": "python",
   "nbconvert_exporter": "python",
   "pygments_lexer": "ipython3",
   "version": "3.10.9"
  }
 },
 "nbformat": 4,
 "nbformat_minor": 5
}
